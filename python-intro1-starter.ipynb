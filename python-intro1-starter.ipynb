{
 "cells": [
  {
   "cell_type": "markdown",
   "metadata": {},
   "source": [
    "<img src=\"https://ga-dash.s3.amazonaws.com/production/assets/logo-9f88ae6c9c3871690e33280fcf557f33.png\" style=\"float: left; margin: 10px;\"> \n",
    "\n",
    "# Python Intro 1: Data Types\n",
    "\n",
    "Authors: _Tim Book & Jeff Hale_\n",
    "\n",
    "---\n",
    "\n",
    "### Learning objectives\n",
    "*After this lesson, you will be able to:*\n",
    "- Learn to use JupyterLab features with Jupyter notebooks\n",
    "- Create numbers, strings, booleans, lists, dictionaries and other data structures\n",
    "- Demonstrate arithmetic, boolean, and string operations\n",
    "- Use list and dictionary methods\n",
    "\n",
    "### Prerequisites\n",
    "*Before this lesson, you should already be able to:*\n",
    "\n",
    "- Be able to navigate the command line\n",
    "- Have Python installed in an active conda environment\n"
   ]
  },
  {
   "cell_type": "markdown",
   "metadata": {},
   "source": [
    "## Let's chat about JupyterLab and Juptyer notebooks\n",
    "\n",
    "- JupyterLab vs Jupyter notebooks\n",
    "- Seeing Files\n",
    "- Kernels\n",
    "- Running cells\n",
    "- State\n",
    "- Code cells vs Markdown cells\n",
    "- [Keyboard shortcuts](https://gist.github.com/discdiver/9e00618756d120a8c9fa344ac1c375ac)"
   ]
  },
  {
   "cell_type": "markdown",
   "metadata": {},
   "source": [
    "# Markdown\n",
    "I am typing in `markdown`. It's a subset of HTML. Nothing \"runs\" in a Markdown cell. \n",
    "\n",
    "## It's good for communication!\n",
    "\n",
    "###  Things can be different sizes"
   ]
  },
  {
   "cell_type": "markdown",
   "metadata": {},
   "source": [
    "*Go to the __Help__ menu for a Markdown tutorial if needed.* 😀\n",
    "\n",
    "\n",
    "In Slack and Jupyter, you can format your code with Markdown. This code will not run. \n",
    "\n",
    "One backtick:\n",
    "\n",
    "`this is inline code` \n",
    "\n",
    "\n",
    "Three backticks:\n",
    "``` \n",
    "this is a block of code\n",
    "ok?\n",
    "```"
   ]
  },
  {
   "cell_type": "markdown",
   "metadata": {},
   "source": [
    "### In Slack - Give a smile, neutral, or frown emoji reaction for your comfort level with the following:\n",
    "\n",
    "- Making a list.\n",
    "- Getting the first item from a list.\n",
    "- Getting the last item from a list.\n",
    "- Making a dictionary.\n",
    "- Getting a value from a dictionary.\n",
    "- Making a list of dictionaries.\n",
    "- Retrieving a value from a dictionary that is in a list."
   ]
  },
  {
   "cell_type": "markdown",
   "metadata": {},
   "source": [
    "## Python is a Calculator\n",
    "_(...just like every other programming language)_\n",
    "\n",
    "Let's learn some common mathematical operations with integer values."
   ]
  },
  {
   "cell_type": "code",
<<<<<<< HEAD
   "execution_count": 1,
=======
   "execution_count": 2,
>>>>>>> 1252bd8718dbd7124cbacf2be7221deb1cd52e61
   "metadata": {},
   "outputs": [
    {
     "data": {
      "text/plain": [
       "50"
      ]
     },
<<<<<<< HEAD
     "execution_count": 1,
=======
     "execution_count": 2,
>>>>>>> 1252bd8718dbd7124cbacf2be7221deb1cd52e61
     "metadata": {},
     "output_type": "execute_result"
    }
   ],
   "source": [
    "# This is a code cell.\n",
    "# This is a comment in a code cell.\n",
    "\n",
    "\n",
    "# Addition\n",
    "45 + 5"
   ]
  },
  {
   "cell_type": "code",
   "execution_count": 3,
   "metadata": {},
   "outputs": [],
   "source": [
    "# Comments don't do anything but communicate (and stop the code in them from running)"
   ]
  },
  {
   "cell_type": "code",
<<<<<<< HEAD
   "execution_count": 2,
=======
   "execution_count": 4,
>>>>>>> 1252bd8718dbd7124cbacf2be7221deb1cd52e61
   "metadata": {},
   "outputs": [
    {
     "data": {
      "text/plain": [
       "40"
      ]
     },
<<<<<<< HEAD
     "execution_count": 2,
=======
     "execution_count": 4,
>>>>>>> 1252bd8718dbd7124cbacf2be7221deb1cd52e61
     "metadata": {},
     "output_type": "execute_result"
    }
   ],
   "source": [
    "# Subtraction (note we can have negative numbers!)\n",
<<<<<<< HEAD
    "45 - 5\n"
=======
    "45 - 5"
>>>>>>> 1252bd8718dbd7124cbacf2be7221deb1cd52e61
   ]
  },
  {
   "cell_type": "code",
   "execution_count": 5,
   "metadata": {},
   "outputs": [
    {
     "data": {
      "text/plain": [
       "225"
      ]
     },
     "execution_count": 5,
     "metadata": {},
     "output_type": "execute_result"
    }
   ],
   "source": [
    "# Multiplication\n",
    "45 * 5"
   ]
  },
  {
   "cell_type": "code",
   "execution_count": 7,
   "metadata": {},
   "outputs": [
    {
     "data": {
      "text/plain": [
       "9.0"
      ]
     },
     "execution_count": 7,
     "metadata": {},
     "output_type": "execute_result"
    }
   ],
   "source": [
    "# Division\n",
    "45 / 5"
   ]
  },
  {
   "cell_type": "code",
   "execution_count": 8,
   "metadata": {},
   "outputs": [
    {
     "data": {
      "text/plain": [
       "184528125"
      ]
     },
     "execution_count": 8,
     "metadata": {},
     "output_type": "execute_result"
    }
   ],
   "source": [
    "# Exponentiation (do NOT use ^, use **)\n",
    "45 ** 5"
   ]
  },
  {
   "cell_type": "code",
   "execution_count": 9,
   "metadata": {},
   "outputs": [
    {
     "data": {
      "text/plain": [
       "0"
      ]
     },
     "execution_count": 9,
     "metadata": {},
     "output_type": "execute_result"
    }
   ],
   "source": [
    "# Modular division (\"mod\" for short, use %) (Remainder Division -- only returns the remainder)\n",
    "45 % 5"
   ]
  },
  {
   "cell_type": "code",
   "execution_count": 10,
   "metadata": {},
   "outputs": [
    {
     "data": {
      "text/plain": [
       "9"
      ]
     },
     "execution_count": 10,
     "metadata": {},
     "output_type": "execute_result"
    }
   ],
   "source": [
    "# Floor division (ie \"round down\" division, use // -- doesn't include the remainder)\n",
    "\n",
    "45 // 5"
   ]
  },
  {
   "cell_type": "code",
   "execution_count": 11,
   "metadata": {},
   "outputs": [
    {
     "data": {
      "text/plain": [
       "21"
      ]
     },
     "execution_count": 11,
     "metadata": {},
     "output_type": "execute_result"
    }
   ],
   "source": [
    "#Python follows PEMDAS order of operations \n",
    "(5 + 2) * 3"
   ]
  },
  {
   "cell_type": "code",
   "execution_count": 12,
   "metadata": {},
   "outputs": [
    {
     "data": {
      "text/plain": [
       "11"
      ]
     },
     "execution_count": 12,
     "metadata": {},
     "output_type": "execute_result"
    }
   ],
   "source": [
    "5 + 2 * 3"
   ]
  },
  {
   "cell_type": "markdown",
   "metadata": {},
   "source": [
    "## Variables\n",
    "Python is just a fancy calculator. It's also important for us to be able to save numbers as **variables** so we can reference them later without memorizing their value."
   ]
  },
  {
   "cell_type": "code",
   "execution_count": 13,
   "metadata": {},
   "outputs": [],
   "source": [
    "#can assign variables in python\n",
    "\n",
    "#won't display anything until you call for the variable again\n",
    "x = 3"
   ]
  },
  {
   "cell_type": "code",
   "execution_count": null,
   "metadata": {},
   "outputs": [],
   "source": [
    "\n",
    "\n",
    "#demo calling x in a cell above"
   ]
  },
  {
   "cell_type": "code",
   "execution_count": 15,
   "metadata": {},
   "outputs": [],
   "source": [
    "y = 4\n",
    "z = 2"
   ]
  },
  {
   "cell_type": "code",
   "execution_count": 16,
   "metadata": {},
   "outputs": [
    {
     "data": {
      "text/plain": [
       "4"
      ]
     },
     "execution_count": 16,
     "metadata": {},
     "output_type": "execute_result"
    }
   ],
   "source": [
    "y"
   ]
  },
  {
   "cell_type": "code",
   "execution_count": 17,
   "metadata": {},
   "outputs": [
    {
     "data": {
      "text/plain": [
       "2"
      ]
     },
     "execution_count": 17,
     "metadata": {},
     "output_type": "execute_result"
    }
   ],
   "source": [
    "z"
   ]
  },
  {
   "cell_type": "code",
   "execution_count": 18,
   "metadata": {},
   "outputs": [
    {
     "data": {
      "text/plain": [
       "3"
      ]
     },
     "execution_count": 18,
     "metadata": {},
     "output_type": "execute_result"
    }
   ],
   "source": [
    "x"
   ]
  },
  {
   "cell_type": "code",
   "execution_count": 19,
   "metadata": {},
   "outputs": [
    {
     "data": {
      "text/plain": [
       "7"
      ]
     },
     "execution_count": 19,
     "metadata": {},
     "output_type": "execute_result"
    }
   ],
   "source": [
    "x + y"
   ]
  },
  {
   "cell_type": "code",
   "execution_count": 21,
   "metadata": {},
   "outputs": [
    {
     "data": {
      "text/plain": [
       "14"
      ]
     },
     "execution_count": 21,
     "metadata": {},
     "output_type": "execute_result"
    }
   ],
   "source": [
    "(x + y) * z"
   ]
  },
  {
   "cell_type": "markdown",
   "metadata": {},
   "source": [
    "## Naming Rules\n",
    "\n",
    "> _There are only two hard things in Computer Science: cache invalidation and naming things._ - Phil Karlton\n",
    "\n",
    "You can _pretty much_ name variables whatever you want. But, there are a few rules we should follow. Some are strict, some are just good manners."
   ]
  },
  {
   "cell_type": "markdown",
   "metadata": {},
   "source": [
    "### Variable naming rules (mandatory)\n",
    "- Names can only consist of letters, underscores, and numbers.\n",
    "- Names can't begin with numbers.\n",
    "- You can't name a variable after a built-in Python keyword (eg `if`)."
   ]
  },
  {
   "cell_type": "code",
   "execution_count": null,
   "metadata": {},
   "outputs": [],
   "source": [
    "#examples:\n",
    "if\n",
    "int\n",
    "for\n",
    "with\n",
    "# etc."
   ]
  },
  {
   "cell_type": "markdown",
   "metadata": {},
   "source": [
    "### Variable naming rules (good manners)\n",
    "- Names should _**always**_ be descriptive (ie, don't name variables `x` and `df`)\n",
    "- No capital letters!\n",
    "- Variables should not begin with an underscore (this means something special)\n",
    "- Multi-word variables should be in `snake_case`. All lower case separated by underscores.\n",
    "- Technically, you _can_ name variables after built-in Python _functions_ (like `print`), but it's an _extremely_ bad idea to do so.\n",
    "    - Rule of thumb: If a variable name turns green, don't use it!\n",
    "    "
   ]
  },
  {
   "cell_type": "code",
   "execution_count": null,
   "metadata": {},
   "outputs": [],
   "source": [
    "#snake case\n",
    "my_car\n",
    "\n",
    "#instead of:\n",
    "#MyCar\n",
    "#my-car"
   ]
  },
  {
   "cell_type": "markdown",
   "metadata": {},
   "source": [
    "### Math exercise :\n",
    "Recall the quadratic formula you may have learned for solving a polynomial equation with coefficients $a$, $b$, $c$:\n",
    "\n",
    "$$ x = \\frac{-b \\pm \\sqrt{b^2 - 4ac}}{2a} $$"
   ]
  },
  {
   "cell_type": "markdown",
   "metadata": {},
   "source": [
    "### Let's turn that into code."
   ]
  },
  {
   "cell_type": "code",
<<<<<<< HEAD
   "execution_count": 4,
=======
   "execution_count": 22,
>>>>>>> 1252bd8718dbd7124cbacf2be7221deb1cd52e61
   "metadata": {},
   "outputs": [],
   "source": [
    "# Assign a, b and c for the quadratic equation to some value\n",
    "a = -1\n",
    "b = -8\n",
<<<<<<< HEAD
    "c = 15\n",
    "d = b * b - 4 * a * c\n",
    "x = ((-1*b) + (d ** 0.5))/(2 * a)"
=======
    "c = 15"
>>>>>>> 1252bd8718dbd7124cbacf2be7221deb1cd52e61
   ]
  },
  {
   "cell_type": "code",
   "execution_count": 5,
   "metadata": {},
   "outputs": [
    {
     "data": {
      "text/plain": [
       "-9.567764362830022"
      ]
     },
     "execution_count": 5,
     "metadata": {},
     "output_type": "execute_result"
    }
   ],
   "source": [
    "# Slack thread: Give me the code to produce one of the two roots!\n",
    "x\n",
    "\n",
    "#Hint: taking something to the half power is the same as the square root"
   ]
  },
  {
   "cell_type": "code",
   "execution_count": 23,
   "metadata": {},
   "outputs": [],
   "source": [
    "#do it for \"+\" first, then minus\n",
    "x = (-b + (b**2 - 4*a*c)**.5)/(2*a)"
   ]
  },
  {
   "cell_type": "code",
   "execution_count": 24,
   "metadata": {},
   "outputs": [
    {
     "data": {
      "text/plain": [
       "-9.567764362830022"
      ]
     },
     "execution_count": 24,
     "metadata": {},
     "output_type": "execute_result"
    }
   ],
   "source": [
    "x"
   ]
  },
  {
   "cell_type": "code",
   "execution_count": null,
   "metadata": {},
   "outputs": [],
   "source": [
    "#x_neg"
   ]
  },
  {
   "cell_type": "code",
   "execution_count": 25,
   "metadata": {},
   "outputs": [],
   "source": [
    "x_neg = (-b - (b**2 - 4*a*c)**.5)/(2*a)"
   ]
  },
  {
   "cell_type": "code",
   "execution_count": 26,
   "metadata": {},
   "outputs": [
    {
     "data": {
      "text/plain": [
       "1.5677643628300215"
      ]
     },
     "execution_count": 26,
     "metadata": {},
     "output_type": "execute_result"
    }
   ],
   "source": [
    "x_neg"
   ]
  },
  {
   "cell_type": "markdown",
   "metadata": {},
   "source": [
    "## So, what is a \"data type\"?\n",
    "\n",
    "Data can come in various **types.** We've already seen two types!\n",
    "\n",
    "1. The `int` type: Integers with no decimal part (eg `2`, `-30`, `14`)\n",
    "1. The `float` type: Numbers with a decimal part, even if that part is zero (eg `2.5`, `3.141`, `2**0.5`, `-3.0`)\n",
    "\n",
    "Curious about what an object's data type is? Simply use the `type()` function to ask!\n",
    "\n",
    "```python\n",
    "type(3) # int\n",
    "type(4.2) # float\n",
    "```"
   ]
  },
  {
   "cell_type": "code",
   "execution_count": 27,
   "metadata": {},
   "outputs": [
    {
     "data": {
      "text/plain": [
       "int"
      ]
     },
     "execution_count": 27,
     "metadata": {},
     "output_type": "execute_result"
    }
   ],
   "source": [
    "#Int example\n",
    "type(5)"
   ]
  },
  {
   "cell_type": "code",
   "execution_count": 28,
   "metadata": {},
   "outputs": [
    {
     "data": {
      "text/plain": [
       "float"
      ]
     },
     "execution_count": 28,
     "metadata": {},
     "output_type": "execute_result"
    }
   ],
   "source": [
    "#float example\n",
    "type(7.987345876345)"
   ]
  },
  {
   "cell_type": "markdown",
   "metadata": {},
   "source": [
    "Get in the habit of checking the type of something when you don't know what it is."
   ]
  },
  {
   "cell_type": "markdown",
   "metadata": {
    "slideshow": {
     "slide_type": "slide"
    }
   },
   "source": [
    "## Strings\n",
    "\n",
    "---\n",
    "\n",
    "Strings are how we store text data in Python. Strings are _strings of characters_ between either double quotes (`\"`) or single quotes (`'`). Python doesn't care which as long as they match.\n"
   ]
  },
  {
   "cell_type": "code",
   "execution_count": 29,
   "metadata": {
    "slideshow": {
     "slide_type": "fragment"
    }
   },
   "outputs": [
    {
     "data": {
      "text/plain": [
       "'This is a string.'"
      ]
     },
     "execution_count": 29,
     "metadata": {},
     "output_type": "execute_result"
    }
   ],
   "source": [
    "#double quotes\n",
    "\"This is a string.\""
   ]
  },
  {
   "cell_type": "code",
   "execution_count": 30,
   "metadata": {},
   "outputs": [
    {
     "data": {
      "text/plain": [
       "'This is a string'"
      ]
     },
     "execution_count": 30,
     "metadata": {},
     "output_type": "execute_result"
    }
   ],
   "source": [
    "#single quotes\n",
    "'This is a string'"
   ]
  },
  {
   "cell_type": "code",
   "execution_count": 31,
   "metadata": {},
   "outputs": [
    {
     "ename": "SyntaxError",
     "evalue": "invalid syntax (<ipython-input-31-61ba71423344>, line 2)",
     "output_type": "error",
     "traceback": [
      "\u001b[0;36m  File \u001b[0;32m\"<ipython-input-31-61ba71423344>\"\u001b[0;36m, line \u001b[0;32m2\u001b[0m\n\u001b[0;31m    'This is a contraction ya'll'\u001b[0m\n\u001b[0m                              ^\u001b[0m\n\u001b[0;31mSyntaxError\u001b[0m\u001b[0;31m:\u001b[0m invalid syntax\n"
     ]
    }
   ],
   "source": [
    "#what about an apostrophe? incorrect example\n",
    "'This is a contraction ya'll'"
   ]
  },
  {
   "cell_type": "code",
   "execution_count": 32,
   "metadata": {},
   "outputs": [
    {
     "data": {
      "text/plain": [
       "\"This is a contraction ya'll.\""
      ]
     },
     "execution_count": 32,
     "metadata": {},
     "output_type": "execute_result"
    }
   ],
   "source": [
    "#what about an apostrophe? correct example\n",
    "\"This is a contraction ya'll.\""
   ]
  },
  {
   "cell_type": "code",
<<<<<<< HEAD
   "execution_count": 6,
=======
   "execution_count": 33,
>>>>>>> 1252bd8718dbd7124cbacf2be7221deb1cd52e61
   "metadata": {},
   "outputs": [
    {
     "data": {
      "text/plain": [
<<<<<<< HEAD
       "'this is a \\n new line'"
      ]
     },
     "execution_count": 6,
=======
       "'This is a \\n new line.'"
      ]
     },
     "execution_count": 33,
>>>>>>> 1252bd8718dbd7124cbacf2be7221deb1cd52e61
     "metadata": {},
     "output_type": "execute_result"
    }
   ],
   "source": [
    "# Escape characters\n",
<<<<<<< HEAD
    "\"this is a \\n new line\""
=======
    "\"This is a \\n new line.\""
>>>>>>> 1252bd8718dbd7124cbacf2be7221deb1cd52e61
   ]
  },
  {
   "cell_type": "code",
<<<<<<< HEAD
   "execution_count": 7,
=======
   "execution_count": 34,
>>>>>>> 1252bd8718dbd7124cbacf2be7221deb1cd52e61
   "metadata": {},
   "outputs": [
    {
     "name": "stdout",
     "output_type": "stream",
     "text": [
      "This is a \n",
<<<<<<< HEAD
      " line\n"
=======
      " new line\n"
>>>>>>> 1252bd8718dbd7124cbacf2be7221deb1cd52e61
     ]
    }
   ],
   "source": [
    "#print with escape character\n",
<<<<<<< HEAD
    "print(\"This is a \\n line\")"
=======
    "print(\"This is a \\n new line\")"
>>>>>>> 1252bd8718dbd7124cbacf2be7221deb1cd52e61
   ]
  },
  {
   "cell_type": "markdown",
   "metadata": {
    "slideshow": {
     "slide_type": "fragment"
    }
   },
   "source": [
    "The **print** command prints the value assigned to the variable `x` on the screen. \n",
    "\n",
    "The **print** statement removes the quotations, whereas just running they jupyter cell with `x` at the last line leaves the quotations in.\n",
    "\n",
    "You can use 'single' or \"double\" quotations to create a string variable."
   ]
  },
  {
   "cell_type": "markdown",
   "metadata": {},
   "source": [
    "## f-strings\n",
    "String formatting technique. Use f-strings to include a variable inside a string."
   ]
  },
  {
   "cell_type": "code",
<<<<<<< HEAD
   "execution_count": 8,
=======
   "execution_count": 35,
>>>>>>> 1252bd8718dbd7124cbacf2be7221deb1cd52e61
   "metadata": {},
   "outputs": [],
   "source": [
    "#Assign a variable \"name\" with your name\n",
<<<<<<< HEAD
    "name = \"Shivaji\""
=======
    "name = \"Krittika\""
>>>>>>> 1252bd8718dbd7124cbacf2be7221deb1cd52e61
   ]
  },
  {
   "cell_type": "code",
<<<<<<< HEAD
   "execution_count": 10,
=======
   "execution_count": 36,
>>>>>>> 1252bd8718dbd7124cbacf2be7221deb1cd52e61
   "metadata": {},
   "outputs": [
    {
     "data": {
      "text/plain": [
<<<<<<< HEAD
       "'Hi. My name is Shivaji'"
      ]
     },
     "execution_count": 10,
=======
       "'Hi. How are you. My name is Krittika.'"
      ]
     },
     "execution_count": 36,
>>>>>>> 1252bd8718dbd7124cbacf2be7221deb1cd52e61
     "metadata": {},
     "output_type": "execute_result"
    }
   ],
   "source": [
<<<<<<< HEAD
    "#f\"Hi. How are you. My name is {name}.\"\n",
    "f\"Hi. My name is {name}\""
=======
    "f\"Hi. How are you. My name is {name}.\""
>>>>>>> 1252bd8718dbd7124cbacf2be7221deb1cd52e61
   ]
  },
  {
   "cell_type": "markdown",
   "metadata": {},
   "source": [
    "Just put an `f` immediately before the quotes and put the variable in squiggly brackets."
   ]
  },
  {
   "cell_type": "markdown",
   "metadata": {},
   "source": [
    "Or do some math in the brackets."
   ]
  },
  {
   "cell_type": "code",
   "execution_count": 37,
   "metadata": {},
   "outputs": [
    {
     "data": {
      "text/plain": [
       "'Hi. How are you. My name is 8.'"
      ]
     },
     "execution_count": 37,
     "metadata": {},
     "output_type": "execute_result"
    }
   ],
   "source": [
    "f'Hi. How are you. My name is {3+5}.' "
   ]
  },
  {
   "cell_type": "markdown",
   "metadata": {},
   "source": [
    "## String Math!\n",
    "Besides simply storing text, we can also operate on strings. Everything in Python has a **type**, and types can be operated on with their respective **methods**. Methods are actions we can perform on an object using the following syntax:\n",
    "\n",
    "```python\n",
    "variable.method(arguments)\n",
    "```"
   ]
  },
  {
   "cell_type": "code",
<<<<<<< HEAD
   "execution_count": 18,
=======
   "execution_count": 38,
>>>>>>> 1252bd8718dbd7124cbacf2be7221deb1cd52e61
   "metadata": {},
   "outputs": [],
   "source": [
    "#make two different strings, s1 & s2\n",
    "s1 = \"Be quiet\"\n",
    "s2 = \"this is a library\""
   ]
  },
  {
<<<<<<< HEAD
   "cell_type": "markdown",
   "metadata": {},
   "source": [
    "s1\n"
=======
   "cell_type": "code",
   "execution_count": 39,
   "metadata": {},
   "outputs": [
    {
     "data": {
      "text/plain": [
       "'Be quiet'"
      ]
     },
     "execution_count": 39,
     "metadata": {},
     "output_type": "execute_result"
    }
   ],
   "source": [
    "#show s1\n",
    "s1"
>>>>>>> 1252bd8718dbd7124cbacf2be7221deb1cd52e61
   ]
  },
  {
   "cell_type": "code",
<<<<<<< HEAD
   "execution_count": 19,
=======
   "execution_count": 40,
>>>>>>> 1252bd8718dbd7124cbacf2be7221deb1cd52e61
   "metadata": {},
   "outputs": [
    {
     "data": {
      "text/plain": [
       "'this is a library'"
      ]
     },
<<<<<<< HEAD
     "execution_count": 19,
=======
     "execution_count": 40,
>>>>>>> 1252bd8718dbd7124cbacf2be7221deb1cd52e61
     "metadata": {},
     "output_type": "execute_result"
    }
   ],
   "source": [
    "#show s2\n",
<<<<<<< HEAD
    "s2\n"
=======
    "s2"
>>>>>>> 1252bd8718dbd7124cbacf2be7221deb1cd52e61
   ]
  },
  {
   "cell_type": "code",
<<<<<<< HEAD
   "execution_count": 21,
=======
   "execution_count": 42,
>>>>>>> 1252bd8718dbd7124cbacf2be7221deb1cd52e61
   "metadata": {},
   "outputs": [
    {
     "data": {
      "text/plain": [
       "'Be quietthis is a library'"
      ]
     },
     "execution_count": 21,
     "metadata": {},
     "output_type": "execute_result"
    }
   ],
   "source": [
    "#add the two strings together, create new variable\n",
<<<<<<< HEAD
    "s1 + s2\n"
=======
    "my_command = s1 + s2"
>>>>>>> 1252bd8718dbd7124cbacf2be7221deb1cd52e61
   ]
  },
  {
   "cell_type": "code",
   "execution_count": 43,
   "metadata": {},
   "outputs": [
    {
     "data": {
      "text/plain": [
       "'Be quietthis is a library'"
      ]
     },
     "execution_count": 43,
     "metadata": {},
     "output_type": "execute_result"
    }
   ],
   "source": [
    "#display the new variable\n",
    "my_command"
   ]
  },
  {
   "cell_type": "code",
   "execution_count": 44,
   "metadata": {},
   "outputs": [],
   "source": [
    "#format it better\n",
    "my_command = s1 + \" \" + s2"
   ]
  },
  {
   "cell_type": "code",
   "execution_count": 45,
   "metadata": {},
   "outputs": [
    {
     "data": {
      "text/plain": [
       "'Be quiet this is a library'"
      ]
     },
     "execution_count": 45,
     "metadata": {},
     "output_type": "execute_result"
    }
   ],
   "source": [
    "my_command"
   ]
  },
  {
   "cell_type": "markdown",
   "metadata": {},
   "source": [
    "#### Uppercasing is a method in Python"
   ]
  },
  {
   "cell_type": "code",
   "execution_count": 46,
   "metadata": {},
   "outputs": [
    {
     "data": {
      "text/plain": [
       "'BE QUIET THIS IS A LIBRARY'"
      ]
     },
     "execution_count": 46,
     "metadata": {},
     "output_type": "execute_result"
    }
   ],
   "source": [
<<<<<<< HEAD
    "#.upper("
=======
    "#.upper()\n",
    "my_command.upper()"
>>>>>>> 1252bd8718dbd7124cbacf2be7221deb1cd52e61
   ]
  },
  {
   "cell_type": "code",
   "execution_count": 47,
   "metadata": {},
   "outputs": [
    {
     "data": {
      "text/plain": [
       "'be quiet this is a library'"
      ]
     },
     "execution_count": 47,
     "metadata": {},
     "output_type": "execute_result"
    }
   ],
   "source": [
    "#.lower()\n",
    "my_command.lower()"
   ]
  },
  {
   "cell_type": "code",
   "execution_count": 48,
   "metadata": {},
   "outputs": [
    {
     "data": {
      "text/plain": [
       "'Be Quiet This Is A Library'"
      ]
     },
     "execution_count": 48,
     "metadata": {},
     "output_type": "execute_result"
    }
   ],
   "source": [
    "#.title()\n",
    "my_command.title()"
   ]
  },
  {
   "cell_type": "code",
<<<<<<< HEAD
   "execution_count": 24,
=======
   "execution_count": 49,
>>>>>>> 1252bd8718dbd7124cbacf2be7221deb1cd52e61
   "metadata": {},
   "outputs": [
    {
     "data": {
      "text/plain": [
       "'Be quiet this is a library'"
      ]
     },
<<<<<<< HEAD
     "execution_count": 24,
=======
     "execution_count": 49,
>>>>>>> 1252bd8718dbd7124cbacf2be7221deb1cd52e61
     "metadata": {},
     "output_type": "execute_result"
    }
   ],
   "source": [
<<<<<<< HEAD
    "mycommand = s1 + \" \" + s2\n",
    "mycommand"
=======
    "my_command."
>>>>>>> 1252bd8718dbd7124cbacf2be7221deb1cd52e61
   ]
  },
  {
   "cell_type": "markdown",
   "metadata": {},
   "source": [
    "#### There are plenty of commands. let's try out Jupyter's autocomplete feature to see what we can do!"
   ]
  },
  {
   "cell_type": "code",
   "execution_count": null,
   "metadata": {},
   "outputs": [],
   "source": [
    "#use . tab complete to see what's available"
   ]
  },
  {
   "cell_type": "markdown",
   "metadata": {},
   "source": [
    "#### Google \"common python string commands\" "
   ]
  },
  {
   "cell_type": "markdown",
   "metadata": {
    "slideshow": {
     "slide_type": "slide"
    }
   },
   "source": [
    "## Slicin' Strings\n",
    "We may also want to pick apart our strings. We can do this by **indexing** or **slicing**. In fact, you can index or slice several different types in Python. For example:\n",
    "\n",
    "- Strings\n",
    "- Lists\n",
    "- Tuples\n",
    "- Sets\n",
    "\n",
    "---\n",
    "\n",
    "All of the above types can be accessed using brackets in the following ways:\n",
    "\n",
    "- **`s[0]`** References the first element\n",
    "- **`s[0:4]`** References the first **4** elements of a string from index **`0`**.\n",
    "- **`s[-1]`** Reference the _first_ item in reverse order (or the last item).\n",
    "- **`s[-2]`** Reference the _second_ item in reverse order (second to last item).\n",
    "- **`s[0:-3]`** Reference everyting _execept the last 3_ elements.\n"
   ]
  },
  {
   "cell_type": "code",
   "execution_count": 50,
   "metadata": {},
   "outputs": [
    {
     "data": {
      "text/plain": [
       "'Be quiet'"
      ]
     },
     "execution_count": 50,
     "metadata": {},
     "output_type": "execute_result"
    }
   ],
   "source": [
    "#show s1\n",
    "s1"
   ]
  },
  {
   "cell_type": "code",
   "execution_count": 51,
   "metadata": {},
   "outputs": [
    {
     "data": {
      "text/plain": [
       "'B'"
      ]
     },
     "execution_count": 51,
     "metadata": {},
     "output_type": "execute_result"
    }
   ],
   "source": [
    "#show s1 first index\n",
    "s1[0]"
   ]
  },
  {
   "cell_type": "code",
   "execution_count": 52,
   "metadata": {},
   "outputs": [
    {
     "data": {
      "text/plain": [
       "'e'"
      ]
     },
     "execution_count": 52,
     "metadata": {},
     "output_type": "execute_result"
    }
   ],
   "source": [
    "# First character\n",
    "s1[1]"
   ]
  },
  {
   "cell_type": "code",
   "execution_count": 53,
   "metadata": {},
   "outputs": [
    {
     "data": {
      "text/plain": [
       "' '"
      ]
     },
     "execution_count": 53,
     "metadata": {},
     "output_type": "execute_result"
    }
   ],
   "source": [
    "# Second character\n",
    "s1[2]"
   ]
  },
  {
   "cell_type": "code",
   "execution_count": 55,
   "metadata": {},
   "outputs": [
    {
     "data": {
      "text/plain": [
       "'e qu'"
      ]
     },
     "execution_count": 55,
     "metadata": {},
     "output_type": "execute_result"
    }
   ],
   "source": [
    "# Second through fourth characters\n",
    "# Remember it is NOT inclusive of last digit\n",
    "s1[1:5]"
   ]
  },
  {
   "cell_type": "code",
   "execution_count": 56,
   "metadata": {},
   "outputs": [
    {
     "data": {
      "text/plain": [
       "'Be qu'"
      ]
     },
     "execution_count": 56,
     "metadata": {},
     "output_type": "execute_result"
    }
   ],
   "source": [
    "# First 5 characters\n",
    "s1[0:5]"
   ]
  },
  {
   "cell_type": "code",
   "execution_count": 57,
   "metadata": {},
   "outputs": [
    {
     "data": {
      "text/plain": [
       "'t'"
      ]
     },
     "execution_count": 57,
     "metadata": {},
     "output_type": "execute_result"
    }
   ],
   "source": [
    "# Last character [-1]\n",
    "s1[-1]"
   ]
  },
  {
   "cell_type": "code",
   "execution_count": 58,
   "metadata": {},
   "outputs": [
    {
     "data": {
      "text/plain": [
       "'e'"
      ]
     },
     "execution_count": 58,
     "metadata": {},
     "output_type": "execute_result"
    }
   ],
   "source": [
    "# Second last character [-2]\n",
    "s1[-2]"
   ]
  },
  {
   "cell_type": "code",
   "execution_count": 60,
   "metadata": {},
   "outputs": [
    {
     "data": {
      "text/plain": [
       "'quiet'"
      ]
     },
     "execution_count": 60,
     "metadata": {},
     "output_type": "execute_result"
    }
   ],
   "source": [
    "# Last 5 characters\n",
    "s1[-5:]"
   ]
  },
  {
   "cell_type": "code",
   "execution_count": 62,
   "metadata": {},
   "outputs": [
    {
     "data": {
      "text/plain": [
       "'uie'"
      ]
     },
     "execution_count": 62,
     "metadata": {},
     "output_type": "execute_result"
    }
   ],
   "source": [
    "s1[-4:-1]"
   ]
  },
  {
   "cell_type": "code",
<<<<<<< HEAD
   "execution_count": 26,
=======
   "execution_count": 67,
   "metadata": {},
   "outputs": [
    {
     "data": {
      "text/plain": [
       "'Be quiet this is a library'"
      ]
     },
     "execution_count": 67,
     "metadata": {},
     "output_type": "execute_result"
    }
   ],
   "source": [
    "#Slack: from my command, how would you isolate/slice the word \"this\"?\n",
    "my_command"
   ]
  },
  {
   "cell_type": "code",
   "execution_count": 71,
   "metadata": {},
   "outputs": [
    {
     "data": {
      "text/plain": [
       "'this'"
      ]
     },
     "execution_count": 71,
     "metadata": {},
     "output_type": "execute_result"
    }
   ],
   "source": [
    "my_command[my_command.find('this'):my_command.find('this')+4]"
   ]
  },
  {
   "cell_type": "code",
   "execution_count": 65,
>>>>>>> 1252bd8718dbd7124cbacf2be7221deb1cd52e61
   "metadata": {},
   "outputs": [
    {
     "data": {
      "text/plain": [
       "['Be', 'quiet', 'this', 'is', 'a', 'library']"
      ]
     },
     "execution_count": 26,
     "metadata": {},
     "output_type": "execute_result"
    }
   ],
   "source": [
    "#separate words in a string using \"split\"\n",
    "# shift + tab gives you the function signature\n",
    "\n",
<<<<<<< HEAD
    "list_of_words = mycommand.split()\n",
    "list_of_words"
=======
    "list_of_words = my_command.split()"
>>>>>>> 1252bd8718dbd7124cbacf2be7221deb1cd52e61
   ]
  },
  {
   "cell_type": "code",
<<<<<<< HEAD
   "execution_count": 27,
=======
   "execution_count": 66,
   "metadata": {},
   "outputs": [
    {
     "data": {
      "text/plain": [
       "['Be', 'quiet', 'this', 'is', 'a', 'library']"
      ]
     },
     "execution_count": 66,
     "metadata": {},
     "output_type": "execute_result"
    }
   ],
   "source": [
    "list_of_words"
   ]
  },
  {
   "cell_type": "code",
   "execution_count": 68,
>>>>>>> 1252bd8718dbd7124cbacf2be7221deb1cd52e61
   "metadata": {},
   "outputs": [
    {
     "data": {
      "text/plain": [
       "'this'"
      ]
     },
<<<<<<< HEAD
     "execution_count": 27,
=======
     "execution_count": 68,
>>>>>>> 1252bd8718dbd7124cbacf2be7221deb1cd52e61
     "metadata": {},
     "output_type": "execute_result"
    }
   ],
   "source": [
    "#Demo indexing into the list\n",
    "list_of_words[2]"
   ]
  },
  {
   "cell_type": "markdown",
   "metadata": {},
   "source": [
    "## Collection Types!\n",
    "\n",
    "![](assets/Collections.png)\n",
    "\n",
    "We often want to store many values in one variable. A _collection_. There are several collection types in Python. The first and most common is...\n",
    "\n",
    "### Lists\n",
    "Lists are mutable, heterogeneous collections. You can add and subtract things from lists.\n",
    "\n",
    "- **Mutable** = They can be changed\n",
    "- **Heterogeneous** = They can hold values of different data types"
   ]
  },
  {
   "cell_type": "code",
<<<<<<< HEAD
   "execution_count": 28,
=======
   "execution_count": 72,
>>>>>>> 1252bd8718dbd7124cbacf2be7221deb1cd52e61
   "metadata": {},
   "outputs": [],
   "source": [
    "#make a list of names\n",
    "names = ['Holly', 'Mabel', 'Tom', 'Jamar', 'Melissa']"
   ]
  },
  {
   "cell_type": "code",
<<<<<<< HEAD
   "execution_count": 29,
=======
   "execution_count": 73,
>>>>>>> 1252bd8718dbd7124cbacf2be7221deb1cd52e61
   "metadata": {},
   "outputs": [
    {
     "data": {
      "text/plain": [
       "['Holly', 'Mabel', 'Tom', 'Jamar', 'Melissa']"
      ]
     },
<<<<<<< HEAD
     "execution_count": 29,
=======
     "execution_count": 73,
>>>>>>> 1252bd8718dbd7124cbacf2be7221deb1cd52e61
     "metadata": {},
     "output_type": "execute_result"
    }
   ],
   "source": [
    "#display the list\n",
    "names"
   ]
  },
  {
   "cell_type": "code",
<<<<<<< HEAD
   "execution_count": 30,
=======
   "execution_count": 74,
>>>>>>> 1252bd8718dbd7124cbacf2be7221deb1cd52e61
   "metadata": {},
   "outputs": [
    {
     "data": {
      "text/plain": [
<<<<<<< HEAD
       "'Holly'"
      ]
     },
     "execution_count": 30,
=======
       "list"
      ]
     },
     "execution_count": 74,
>>>>>>> 1252bd8718dbd7124cbacf2be7221deb1cd52e61
     "metadata": {},
     "output_type": "execute_result"
    }
   ],
   "source": [
    "#display type\n",
<<<<<<< HEAD
    "names[0]"
=======
    "type(names)"
>>>>>>> 1252bd8718dbd7124cbacf2be7221deb1cd52e61
   ]
  },
  {
   "cell_type": "code",
<<<<<<< HEAD
   "execution_count": 31,
=======
   "execution_count": 75,
>>>>>>> 1252bd8718dbd7124cbacf2be7221deb1cd52e61
   "metadata": {},
   "outputs": [
    {
     "data": {
      "text/plain": [
<<<<<<< HEAD
       "['Mabel', 'Tom', 'Jamar', 'Melissa']"
      ]
     },
     "execution_count": 31,
=======
       "'Holly'"
      ]
     },
     "execution_count": 75,
>>>>>>> 1252bd8718dbd7124cbacf2be7221deb1cd52e61
     "metadata": {},
     "output_type": "execute_result"
    }
   ],
   "source": [
    "# Reference 1st item\n",
<<<<<<< HEAD
    "names[1:]"
=======
    "names[0]"
>>>>>>> 1252bd8718dbd7124cbacf2be7221deb1cd52e61
   ]
  },
  {
   "cell_type": "code",
<<<<<<< HEAD
   "execution_count": 32,
=======
   "execution_count": 76,
>>>>>>> 1252bd8718dbd7124cbacf2be7221deb1cd52e61
   "metadata": {},
   "outputs": [
    {
     "data": {
      "text/plain": [
<<<<<<< HEAD
       "['Holly', 'Tom', 'Melissa']"
      ]
     },
     "execution_count": 32,
=======
       "'Mabel'"
      ]
     },
     "execution_count": 76,
>>>>>>> 1252bd8718dbd7124cbacf2be7221deb1cd52e61
     "metadata": {},
     "output_type": "execute_result"
    }
   ],
   "source": [
    "# Reference 2nd item\n",
<<<<<<< HEAD
    "names[0:5:2]"
=======
    "names[1]"
>>>>>>> 1252bd8718dbd7124cbacf2be7221deb1cd52e61
   ]
  },
  {
   "cell_type": "code",
<<<<<<< HEAD
   "execution_count": 33,
=======
   "execution_count": 77,
>>>>>>> 1252bd8718dbd7124cbacf2be7221deb1cd52e61
   "metadata": {},
   "outputs": [
    {
     "data": {
      "text/plain": [
<<<<<<< HEAD
       "['Melissa', 'Jamar', 'Tom', 'Mabel', 'Holly']"
      ]
     },
     "execution_count": 33,
=======
       "'Melissa'"
      ]
     },
     "execution_count": 77,
>>>>>>> 1252bd8718dbd7124cbacf2be7221deb1cd52e61
     "metadata": {},
     "output_type": "execute_result"
    }
   ],
   "source": [
    "# The last one\n",
<<<<<<< HEAD
    "names[::-1]"
=======
    "names[-1]"
>>>>>>> 1252bd8718dbd7124cbacf2be7221deb1cd52e61
   ]
  },
  {
   "cell_type": "code",
   "execution_count": 78,
   "metadata": {},
   "outputs": [
    {
     "data": {
      "text/plain": [
       "['Holly', 'Tom', 'Melissa']"
      ]
     },
     "execution_count": 78,
     "metadata": {},
     "output_type": "execute_result"
    }
   ],
   "source": [
    "# Every other name\n",
    "#first element: start, second element: end, third element: step\n",
    "names[0:5:2]"
   ]
  },
  {
   "cell_type": "code",
<<<<<<< HEAD
   "execution_count": 34,
=======
   "execution_count": 79,
>>>>>>> 1252bd8718dbd7124cbacf2be7221deb1cd52e61
   "metadata": {},
   "outputs": [
    {
     "data": {
      "text/plain": [
       "['Melissa', 'Jamar', 'Tom', 'Mabel', 'Holly']"
      ]
     },
<<<<<<< HEAD
     "execution_count": 34,
=======
     "execution_count": 79,
>>>>>>> 1252bd8718dbd7124cbacf2be7221deb1cd52e61
     "metadata": {},
     "output_type": "execute_result"
    }
   ],
   "source": [
    "# Backwards! Reverse a list\n",
    "names[::-1]"
   ]
  },
  {
   "cell_type": "markdown",
   "metadata": {},
   "source": [
    "### List Methods"
   ]
  },
  {
   "cell_type": "code",
<<<<<<< HEAD
   "execution_count": 35,
=======
   "execution_count": 80,
>>>>>>> 1252bd8718dbd7124cbacf2be7221deb1cd52e61
   "metadata": {},
   "outputs": [],
   "source": [
    "# Append\n",
    "names.append('Sumati')"
   ]
  },
  {
   "cell_type": "code",
<<<<<<< HEAD
   "execution_count": 36,
=======
   "execution_count": 81,
>>>>>>> 1252bd8718dbd7124cbacf2be7221deb1cd52e61
   "metadata": {},
   "outputs": [
    {
     "data": {
      "text/plain": [
       "['Holly', 'Mabel', 'Tom', 'Jamar', 'Melissa', 'Sumati']"
      ]
     },
<<<<<<< HEAD
     "execution_count": 36,
=======
     "execution_count": 81,
>>>>>>> 1252bd8718dbd7124cbacf2be7221deb1cd52e61
     "metadata": {},
     "output_type": "execute_result"
    }
   ],
   "source": [
    "names"
   ]
  },
  {
   "cell_type": "code",
   "execution_count": 37,
   "metadata": {},
   "outputs": [],
   "source": [
    "names.remove('Holly')"
   ]
  },
  {
   "cell_type": "code",
<<<<<<< HEAD
   "execution_count": 38,
=======
   "execution_count": 82,
>>>>>>> 1252bd8718dbd7124cbacf2be7221deb1cd52e61
   "metadata": {},
   "outputs": [
    {
     "data": {
      "text/plain": [
       "['Mabel', 'Tom', 'Jamar', 'Melissa', 'Sumati']"
      ]
     },
     "execution_count": 38,
     "metadata": {},
     "output_type": "execute_result"
    }
   ],
   "source": [
    "# Remove\n",
<<<<<<< HEAD
    "names"
=======
    "names.remove('Holly')"
>>>>>>> 1252bd8718dbd7124cbacf2be7221deb1cd52e61
   ]
  },
  {
   "cell_type": "code",
   "execution_count": 83,
   "metadata": {},
   "outputs": [
    {
     "data": {
      "text/plain": [
       "['Mabel', 'Tom', 'Jamar', 'Melissa', 'Sumati']"
      ]
     },
     "execution_count": 83,
     "metadata": {},
     "output_type": "execute_result"
    }
   ],
   "source": [
    "names"
   ]
  },
  {
   "cell_type": "code",
<<<<<<< HEAD
   "execution_count": 39,
=======
   "execution_count": 86,
   "metadata": {},
   "outputs": [
    {
     "data": {
      "text/plain": [
       "'Mabel and Tom and Jamar and Melissa and Sumati'"
      ]
     },
     "execution_count": 86,
     "metadata": {},
     "output_type": "execute_result"
    }
   ],
   "source": [
    "# Join??? Join is different but powerful.\n",
    "\" and \".join(names)"
   ]
  },
  {
   "cell_type": "code",
   "execution_count": 87,
>>>>>>> 1252bd8718dbd7124cbacf2be7221deb1cd52e61
   "metadata": {},
   "outputs": [
    {
     "data": {
      "text/plain": [
       "'Mabel; Tom; Jamar; Melissa; Sumati'"
      ]
     },
     "execution_count": 39,
     "metadata": {},
     "output_type": "execute_result"
    }
   ],
   "source": [
<<<<<<< HEAD
    "# Join??? Join is different but powerful.\n",
    "\"; \".join(names)"
=======
    "#sorting if necessary\n",
    "sorted_names = sorted(names)"
>>>>>>> 1252bd8718dbd7124cbacf2be7221deb1cd52e61
   ]
  },
  {
   "cell_type": "code",
<<<<<<< HEAD
   "execution_count": 42,
=======
   "execution_count": 88,
   "metadata": {},
   "outputs": [
    {
     "data": {
      "text/plain": [
       "['Jamar', 'Mabel', 'Melissa', 'Sumati', 'Tom']"
      ]
     },
     "execution_count": 88,
     "metadata": {},
     "output_type": "execute_result"
    }
   ],
   "source": [
    "sorted_names"
   ]
  },
  {
   "cell_type": "code",
   "execution_count": 89,
>>>>>>> 1252bd8718dbd7124cbacf2be7221deb1cd52e61
   "metadata": {},
   "outputs": [
    {
     "data": {
      "text/plain": [
       "['Jamar', 'Mabel', 'Melissa', 'Sumati', 'Tom']"
      ]
     },
     "execution_count": 42,
     "metadata": {},
     "output_type": "execute_result"
    }
   ],
   "source": [
<<<<<<< HEAD
    "#sorting if necessary\n",
    "\" and \".join(names)\n",
    "sorted_names = sorted(names)\n",
    "sorted_names"
=======
    "names.sort()"
   ]
  },
  {
   "cell_type": "code",
   "execution_count": 90,
   "metadata": {},
   "outputs": [
    {
     "data": {
      "text/plain": [
       "['Jamar', 'Mabel', 'Melissa', 'Sumati', 'Tom']"
      ]
     },
     "execution_count": 90,
     "metadata": {},
     "output_type": "execute_result"
    }
   ],
   "source": [
    "names"
>>>>>>> 1252bd8718dbd7124cbacf2be7221deb1cd52e61
   ]
  },
  {
   "cell_type": "markdown",
   "metadata": {},
   "source": [
    "### Tuples\n",
    "Tuples are less common than lists, but very similar. They are immutable and heterogeneous. We don't usual create them often but they do get returned from various functions.\n",
    "\n",
    "- **Immutable** = Once made, they can never be changed.\n",
    "- **Heterogeneous** = They can contain values of different types\n",
    "\n",
    "For our purposes, you can just think of tuples as immutable lists. Their existence is partly legacy from a time when they were more useful. Traditionally they're only used to hold short sequences of variables."
   ]
  },
  {
   "cell_type": "code",
<<<<<<< HEAD
   "execution_count": 44,
=======
   "execution_count": 91,
>>>>>>> 1252bd8718dbd7124cbacf2be7221deb1cd52e61
   "metadata": {},
   "outputs": [
    {
     "data": {
      "text/plain": [
       "('Pratima', 'Krish')"
      ]
     },
     "execution_count": 44,
     "metadata": {},
     "output_type": "execute_result"
    }
   ],
   "source": [
    "#tuples in (), list in []\n",
<<<<<<< HEAD
    "family = (\"Pratima\", \"Krish\")\n",
    "family"
=======
    "family = ('Pratima', 'Krish')"
>>>>>>> 1252bd8718dbd7124cbacf2be7221deb1cd52e61
   ]
  },
  {
   "cell_type": "code",
<<<<<<< HEAD
   "execution_count": 45,
=======
   "execution_count": 92,
>>>>>>> 1252bd8718dbd7124cbacf2be7221deb1cd52e61
   "metadata": {},
   "outputs": [
    {
     "data": {
      "text/plain": [
<<<<<<< HEAD
       "tuple"
      ]
     },
     "execution_count": 45,
=======
       "('Pratima', 'Krish')"
      ]
     },
     "execution_count": 92,
>>>>>>> 1252bd8718dbd7124cbacf2be7221deb1cd52e61
     "metadata": {},
     "output_type": "execute_result"
    }
   ],
   "source": [
<<<<<<< HEAD
    "#check type\n",
    "type(family)"
=======
    "family"
>>>>>>> 1252bd8718dbd7124cbacf2be7221deb1cd52e61
   ]
  },
  {
   "cell_type": "code",
<<<<<<< HEAD
   "execution_count": 46,
   "metadata": {},
   "outputs": [
    {
     "ename": "AttributeError",
     "evalue": "'tuple' object has no attribute 'append'",
     "output_type": "error",
     "traceback": [
      "\u001b[0;31m---------------------------------------------------------------------------\u001b[0m",
      "\u001b[0;31mAttributeError\u001b[0m                            Traceback (most recent call last)",
      "\u001b[0;32m<ipython-input-46-bf901ac98781>\u001b[0m in \u001b[0;36m<module>\u001b[0;34m\u001b[0m\n\u001b[1;32m      1\u001b[0m \u001b[0;31m#Can't append to a tuple\u001b[0m\u001b[0;34m\u001b[0m\u001b[0;34m\u001b[0m\u001b[0;34m\u001b[0m\u001b[0m\n\u001b[0;32m----> 2\u001b[0;31m \u001b[0mfamily\u001b[0m\u001b[0;34m.\u001b[0m\u001b[0mappend\u001b[0m\u001b[0;34m(\u001b[0m\u001b[0;34m'brother'\u001b[0m\u001b[0;34m)\u001b[0m\u001b[0;34m\u001b[0m\u001b[0;34m\u001b[0m\u001b[0m\n\u001b[0m",
      "\u001b[0;31mAttributeError\u001b[0m: 'tuple' object has no attribute 'append'"
     ]
    }
   ],
   "source": [
=======
   "execution_count": 93,
   "metadata": {},
   "outputs": [
    {
     "data": {
      "text/plain": [
       "tuple"
      ]
     },
     "execution_count": 93,
     "metadata": {},
     "output_type": "execute_result"
    }
   ],
   "source": [
    "#check type\n",
    "type(family)"
   ]
  },
  {
   "cell_type": "code",
   "execution_count": 94,
   "metadata": {},
   "outputs": [
    {
     "ename": "AttributeError",
     "evalue": "'tuple' object has no attribute 'append'",
     "output_type": "error",
     "traceback": [
      "\u001b[0;31m---------------------------------------------------------------------------\u001b[0m",
      "\u001b[0;31mAttributeError\u001b[0m                            Traceback (most recent call last)",
      "\u001b[0;32m<ipython-input-94-bf901ac98781>\u001b[0m in \u001b[0;36m<module>\u001b[0;34m\u001b[0m\n\u001b[1;32m      1\u001b[0m \u001b[0;31m#Can't append to a tuple\u001b[0m\u001b[0;34m\u001b[0m\u001b[0;34m\u001b[0m\u001b[0;34m\u001b[0m\u001b[0m\n\u001b[0;32m----> 2\u001b[0;31m \u001b[0mfamily\u001b[0m\u001b[0;34m.\u001b[0m\u001b[0mappend\u001b[0m\u001b[0;34m(\u001b[0m\u001b[0;34m'brother'\u001b[0m\u001b[0;34m)\u001b[0m\u001b[0;34m\u001b[0m\u001b[0;34m\u001b[0m\u001b[0m\n\u001b[0m",
      "\u001b[0;31mAttributeError\u001b[0m: 'tuple' object has no attribute 'append'"
     ]
    }
   ],
   "source": [
>>>>>>> 1252bd8718dbd7124cbacf2be7221deb1cd52e61
    "#Can't append to a tuple\n",
    "family.append('brother')"
   ]
  },
  {
   "cell_type": "markdown",
   "metadata": {},
   "source": [
    "## Sets\n",
    "Sets are unordered, unique collections. Just like traditional sets in a math class.\n",
    "\n",
    "We'll see sets rarely, but it's worth knowing they exist. They come in handy in coding challenges. 😉"
   ]
  },
  {
   "cell_type": "code",
<<<<<<< HEAD
   "execution_count": 47,
=======
   "execution_count": 95,
>>>>>>> 1252bd8718dbd7124cbacf2be7221deb1cd52e61
   "metadata": {},
   "outputs": [],
   "source": [
    "#type in a set \n",
<<<<<<< HEAD
    "my_grades = {1, 23, 5, 6, 7, 4, 5, 6, 7, 4, 5}"
=======
    "my_grades = {1, 23, 5, 6, 7, 4, 5, 6, 7, 4, 5,}"
>>>>>>> 1252bd8718dbd7124cbacf2be7221deb1cd52e61
   ]
  },
  {
   "cell_type": "code",
<<<<<<< HEAD
   "execution_count": 48,
=======
   "execution_count": 96,
>>>>>>> 1252bd8718dbd7124cbacf2be7221deb1cd52e61
   "metadata": {},
   "outputs": [
    {
     "data": {
      "text/plain": [
       "{1, 4, 5, 6, 7, 23}"
      ]
     },
<<<<<<< HEAD
     "execution_count": 48,
=======
     "execution_count": 96,
>>>>>>> 1252bd8718dbd7124cbacf2be7221deb1cd52e61
     "metadata": {},
     "output_type": "execute_result"
    }
   ],
   "source": [
<<<<<<< HEAD
    "#show set\n",
    "my_grades"
=======
    "my_grades"
   ]
  },
  {
   "cell_type": "code",
   "execution_count": 97,
   "metadata": {},
   "outputs": [
    {
     "data": {
      "text/plain": [
       "set"
      ]
     },
     "execution_count": 97,
     "metadata": {},
     "output_type": "execute_result"
    }
   ],
   "source": [
    "#show set\n",
    "type(my_grades)\n"
>>>>>>> 1252bd8718dbd7124cbacf2be7221deb1cd52e61
   ]
  },
  {
   "cell_type": "code",
   "execution_count": 49,
   "metadata": {},
   "outputs": [
    {
     "data": {
      "text/plain": [
       "set"
      ]
     },
     "execution_count": 49,
     "metadata": {},
     "output_type": "execute_result"
    }
   ],
   "source": [
    "#check type\n",
    "type(my_grades)"
   ]
  },
  {
   "cell_type": "markdown",
   "metadata": {},
   "source": [
    "## Dictionaries!\n",
    "\n",
    "![](assets/phonebook.jpeg)\n",
    "\n",
    "Dictionaries are very common. They're unordered, mutable key-value pairs. \n",
    "\n",
    "Think of them like an actual dictionary. The key is the \"word\" and the value is the \"definition\"."
   ]
  },
  {
   "cell_type": "code",
<<<<<<< HEAD
   "execution_count": 51,
=======
   "execution_count": 98,
>>>>>>> 1252bd8718dbd7124cbacf2be7221deb1cd52e61
   "metadata": {},
   "outputs": [],
   "source": [
    "#make a dictionary of state capitals as a quiz\n",
<<<<<<< HEAD
    "state_capitals = {'Washington': ['Olympia', 'Seattle'], \n",
    "                  'Texas':['Austin', 'Dallas'],\n",
    "                  'Colorado': ['Denver', 'Boulder', 'Aspen']}\n"
=======
    "state_capitals = { 'Washington': ['Olympia', 'Seattle'],\n",
    "                 'Texas': ['Austin', 'Dallas'],\n",
    "                 'Colorado': ['Denver', 'Boulder', 'Aspen']}"
>>>>>>> 1252bd8718dbd7124cbacf2be7221deb1cd52e61
   ]
  },
  {
   "cell_type": "code",
<<<<<<< HEAD
   "execution_count": 52,
=======
   "execution_count": 99,
>>>>>>> 1252bd8718dbd7124cbacf2be7221deb1cd52e61
   "metadata": {},
   "outputs": [
    {
     "data": {
      "text/plain": [
       "['Austin', 'Dallas']"
      ]
     },
<<<<<<< HEAD
     "execution_count": 52,
=======
     "execution_count": 99,
>>>>>>> 1252bd8718dbd7124cbacf2be7221deb1cd52e61
     "metadata": {},
     "output_type": "execute_result"
    }
   ],
   "source": [
    "# Indexing -- grab the state \"Texas\"\n",
<<<<<<< HEAD
    "state_capitals['Texas']"
=======
    "state_capitals.get('Texas')"
>>>>>>> 1252bd8718dbd7124cbacf2be7221deb1cd52e61
   ]
  },
  {
   "cell_type": "code",
<<<<<<< HEAD
   "execution_count": 53,
   "metadata": {},
   "outputs": [
    {
     "ename": "TypeError",
     "evalue": "unhashable type: 'slice'",
     "output_type": "error",
     "traceback": [
      "\u001b[0;31m---------------------------------------------------------------------------\u001b[0m",
      "\u001b[0;31mTypeError\u001b[0m                                 Traceback (most recent call last)",
      "\u001b[0;32m<ipython-input-53-da6ef823435c>\u001b[0m in \u001b[0;36m<module>\u001b[0;34m\u001b[0m\n\u001b[1;32m      1\u001b[0m \u001b[0;31m# Bzzt! Remember, dictionaries are unordered. No such thing as \"first\" element\u001b[0m\u001b[0;34m\u001b[0m\u001b[0;34m\u001b[0m\u001b[0;34m\u001b[0m\u001b[0m\n\u001b[1;32m      2\u001b[0m \u001b[0;31m# music[0]\u001b[0m\u001b[0;34m\u001b[0m\u001b[0;34m\u001b[0m\u001b[0;34m\u001b[0m\u001b[0m\n\u001b[0;32m----> 3\u001b[0;31m \u001b[0mstate_capitals\u001b[0m\u001b[0;34m[\u001b[0m\u001b[0;34m'Massachusetts'\u001b[0m\u001b[0;34m:\u001b[0m \u001b[0;34m[\u001b[0m\u001b[0;34m'Boston'\u001b[0m\u001b[0;34m]\u001b[0m\u001b[0;34m]\u001b[0m\u001b[0;34m\u001b[0m\u001b[0;34m\u001b[0m\u001b[0m\n\u001b[0m",
      "\u001b[0;31mTypeError\u001b[0m: unhashable type: 'slice'"
     ]
=======
   "execution_count": 101,
   "metadata": {},
   "outputs": [
    {
     "data": {
      "text/plain": [
       "['Austin', 'Dallas']"
      ]
     },
     "execution_count": 101,
     "metadata": {},
     "output_type": "execute_result"
>>>>>>> 1252bd8718dbd7124cbacf2be7221deb1cd52e61
    }
   ],
   "source": [
    "# Bzzt! Remember, dictionaries are unordered. No such thing as \"first\" element\n",
    "# music[0]\n",
<<<<<<< HEAD
    "state_capitals['Massachusetts': ['Boston']]"
=======
    "state_capitals['Texas']"
>>>>>>> 1252bd8718dbd7124cbacf2be7221deb1cd52e61
   ]
  },
  {
   "cell_type": "markdown",
   "metadata": {},
   "source": [
    "However, the items in them will print in the order that they were inserted! (Dictionaries are insertion ordered now, this was not the case in early versions of Python)"
   ]
  },
  {
   "cell_type": "code",
   "execution_count": 102,
   "metadata": {},
   "outputs": [],
   "source": [
    "#delete a key-value pair\n",
    "del state_capitals['Texas']"
   ]
  },
  {
   "cell_type": "code",
   "execution_count": 103,
   "metadata": {},
   "outputs": [
    {
     "data": {
      "text/plain": [
       "{'Washington': ['Olympia', 'Seattle'],\n",
       " 'Colorado': ['Denver', 'Boulder', 'Aspen']}"
      ]
     },
     "execution_count": 103,
     "metadata": {},
     "output_type": "execute_result"
    }
   ],
   "source": [
    "state_capitals"
   ]
  },
  {
   "cell_type": "code",
   "execution_count": 104,
   "metadata": {},
   "outputs": [],
   "source": [
    "#add a state capital\n",
    "state_capitals['Massachusetts'] = ['Boston', 'Salem']"
   ]
  },
  {
   "cell_type": "code",
   "execution_count": 105,
   "metadata": {},
   "outputs": [
    {
     "data": {
      "text/plain": [
       "{'Washington': ['Olympia', 'Seattle'],\n",
       " 'Colorado': ['Denver', 'Boulder', 'Aspen'],\n",
       " 'Massachusetts': ['Boston', 'Salem']}"
      ]
     },
     "execution_count": 105,
     "metadata": {},
     "output_type": "execute_result"
    }
   ],
   "source": [
    "state_capitals"
   ]
  },
  {
   "cell_type": "markdown",
   "metadata": {},
   "source": [
    "`my_dict.get(some_key)`  is the preferred way to access a value in a dictionary!"
   ]
  },
  {
   "cell_type": "markdown",
   "metadata": {},
   "source": [
    "## Dictionaries are a big deal!\n",
    "\n",
    "Dictionaries can get really big and really complicated, like the one below. \n",
    "\n",
    "This is a very efficient way to store complicated data that don't fit neatly in a spreadsheet. In fact, dictionaries are the data type used by most web APIs! We'll need to parse big dictionaries to get data from the internet!\n",
    "\n",
    "Dictionaries are also faster for a computer to find information in than lists."
   ]
  },
  {
   "cell_type": "code",
<<<<<<< HEAD
   "execution_count": 56,
=======
   "execution_count": 106,
>>>>>>> 1252bd8718dbd7124cbacf2be7221deb1cd52e61
   "metadata": {},
   "outputs": [],
   "source": [
    "authors = {\n",
    "    \"J.R.R. Tolkien\": {\n",
    "        \"genre\": \"fantasy\",\n",
    "        \"books\": [\n",
    "            \"The Fellowship of the Ring\",\n",
    "            \"The Two Towers\",\n",
    "            \"The Return of the King\"\n",
    "        ],\n",
    "        \"active\": False\n",
    "    },\n",
    "    \"J.K. Rowling\": {\n",
    "        \"genre\": \"fantasy\",\n",
    "        \"books\": [\n",
    "            \"The Sorcerer's Stone\",\n",
    "            \"The Chamber of Secrets\",\n",
    "            \"The Prisoner of Azkaban\",\n",
    "            \"The Goblet of Fire\",\n",
    "            \"The Order of the Phoenix\",\n",
    "            \"The Half-Blood Prince\",\n",
    "            \"The Deathly Hallows\"\n",
    "            \n",
    "        ],\n",
    "        \"active\": True,\n",
    "        \"phone\": {\n",
    "            \"home\": \"(281) 330-8004\",\n",
    "            \"work\": \"(800) HP0-TTER\"\n",
    "        }\n",
    "    },\n",
    "    \"Suzanne Collins\": {\n",
    "        \"genre\": \"science fiction\",\n",
    "        \"books\": [\"The Hunger Games\",\n",
    "                 \"Catching Fire\",\n",
    "                 \"Mockingjay\"],\n",
    "        \"phone\": None,\n",
    "        \"active\": True\n",
    "    }\n",
    "}"
   ]
  },
  {
   "cell_type": "code",
<<<<<<< HEAD
   "execution_count": 57,
=======
   "execution_count": 107,
>>>>>>> 1252bd8718dbd7124cbacf2be7221deb1cd52e61
   "metadata": {},
   "outputs": [
    {
     "data": {
      "text/plain": [
       "dict"
      ]
     },
<<<<<<< HEAD
     "execution_count": 57,
=======
     "execution_count": 107,
>>>>>>> 1252bd8718dbd7124cbacf2be7221deb1cd52e61
     "metadata": {},
     "output_type": "execute_result"
    }
   ],
   "source": [
    "#check type of authors\n",
    "type(authors)"
   ]
  },
  {
   "cell_type": "markdown",
   "metadata": {},
   "source": [
    "What `types` are in the dictionary?"
   ]
  },
  {
   "cell_type": "code",
<<<<<<< HEAD
   "execution_count": 59,
=======
   "execution_count": 109,
>>>>>>> 1252bd8718dbd7124cbacf2be7221deb1cd52e61
   "metadata": {},
   "outputs": [
    {
     "data": {
      "text/plain": [
       "dict"
      ]
     },
<<<<<<< HEAD
     "execution_count": 59,
=======
     "execution_count": 109,
>>>>>>> 1252bd8718dbd7124cbacf2be7221deb1cd52e61
     "metadata": {},
     "output_type": "execute_result"
    }
   ],
   "source": [
    "#check type of J.R.R. Tolkien\n",
    "type(authors[\"J.R.R. Tolkien\"])"
   ]
  },
  {
   "cell_type": "code",
<<<<<<< HEAD
   "execution_count": 60,
=======
   "execution_count": 110,
>>>>>>> 1252bd8718dbd7124cbacf2be7221deb1cd52e61
   "metadata": {},
   "outputs": [
    {
     "data": {
      "text/plain": [
<<<<<<< HEAD
       "'Mockingjay'"
      ]
     },
     "execution_count": 60,
=======
       "list"
      ]
     },
     "execution_count": 110,
>>>>>>> 1252bd8718dbd7124cbacf2be7221deb1cd52e61
     "metadata": {},
     "output_type": "execute_result"
    }
   ],
   "source": [
    "#go one level deeper, check type of 'books'\n",
<<<<<<< HEAD
    "authors[\"Suzanne Collins\"][\"books\"][2]"
=======
    "type(authors[\"J.R.R. Tolkien\"][\"books\"])"
>>>>>>> 1252bd8718dbd7124cbacf2be7221deb1cd52e61
   ]
  },
  {
   "cell_type": "code",
   "execution_count": 112,
   "metadata": {},
   "outputs": [
    {
     "data": {
      "text/plain": [
       "'The Two Towers'"
      ]
     },
     "execution_count": 112,
     "metadata": {},
     "output_type": "execute_result"
    }
   ],
   "source": [
    "#go another level deeper what are the types within books?\n",
    "authors[\"J.R.R. Tolkien\"][\"books\"][1]"
   ]
  },
  {
   "cell_type": "code",
<<<<<<< HEAD
   "execution_count": 63,
=======
   "execution_count": 114,
>>>>>>> 1252bd8718dbd7124cbacf2be7221deb1cd52e61
   "metadata": {},
   "outputs": [
    {
     "data": {
      "text/plain": [
       "'Mockingjay'"
      ]
     },
<<<<<<< HEAD
     "execution_count": 63,
=======
     "execution_count": 114,
>>>>>>> 1252bd8718dbd7124cbacf2be7221deb1cd52e61
     "metadata": {},
     "output_type": "execute_result"
    }
   ],
   "source": [
    "# Code To get Suzanne Collins' 3rd book\n",
    "authors[\"Suzanne Collins\"][\"books\"][2]"
<<<<<<< HEAD
=======
   ]
  },
  {
   "cell_type": "code",
   "execution_count": 117,
   "metadata": {},
   "outputs": [
    {
     "data": {
      "text/plain": [
       "dict_items([('J.R.R. Tolkien', {'genre': 'fantasy', 'books': ['The Fellowship of the Ring', 'The Two Towers', 'The Return of the King'], 'active': False}), ('J.K. Rowling', {'genre': 'fantasy', 'books': [\"The Sorcerer's Stone\", 'The Chamber of Secrets', 'The Prisoner of Azkaban', 'The Goblet of Fire', 'The Order of the Phoenix', 'The Half-Blood Prince', 'The Deathly Hallows'], 'active': True, 'phone': {'home': '(281) 330-8004', 'work': '(800) HP0-TTER'}}), ('Suzanne Collins', {'genre': 'science fiction', 'books': ['The Hunger Games', 'Catching Fire', 'Mockingjay'], 'phone': None, 'active': True})])"
      ]
     },
     "execution_count": 117,
     "metadata": {},
     "output_type": "execute_result"
    }
   ],
   "source": [
    "authors.items()"
>>>>>>> 1252bd8718dbd7124cbacf2be7221deb1cd52e61
   ]
  },
  {
   "cell_type": "code",
   "execution_count": null,
   "metadata": {},
   "outputs": [],
   "source": []
  },
  {
   "cell_type": "markdown",
   "metadata": {},
   "source": [
    "## `.items` gives you keys and values"
   ]
  },
  {
   "cell_type": "markdown",
   "metadata": {},
   "source": [
    "## Booleans\n",
    "\n",
    "![](assets/boole.jpg)\n",
    "\n",
    "Booleans are variables that only have two different values: `True` and `False`. \n",
    "\n",
    "They're named after their founder, **George Boole** and will come in real handy when we discuss control flow this afternoon.\n",
    "\n",
    "You can do three operations with booleans : `not`, `and`, and `or`."
   ]
  },
  {
   "cell_type": "code",
   "execution_count": 118,
   "metadata": {},
   "outputs": [],
   "source": [
    "# set a variable to True\n",
    "dummy_variable = True"
   ]
  },
  {
   "cell_type": "code",
   "execution_count": 119,
   "metadata": {},
   "outputs": [
    {
     "data": {
      "text/plain": [
       "True"
      ]
     },
     "execution_count": 119,
     "metadata": {},
     "output_type": "execute_result"
    }
   ],
   "source": [
    "dummy_variable"
   ]
  },
  {
   "cell_type": "code",
   "execution_count": 120,
   "metadata": {},
   "outputs": [
    {
     "data": {
      "text/plain": [
       "bool"
      ]
     },
     "execution_count": 120,
     "metadata": {},
     "output_type": "execute_result"
    }
   ],
   "source": [
    "#check it's type\n",
    "type(dummy_variable)"
   ]
  },
  {
   "cell_type": "code",
   "execution_count": 121,
   "metadata": {},
   "outputs": [],
   "source": [
    "#set a variable to False\n",
    "y=False"
   ]
  },
  {
   "cell_type": "code",
   "execution_count": 122,
   "metadata": {},
   "outputs": [
    {
     "data": {
      "text/plain": [
       "False"
      ]
     },
     "execution_count": 122,
     "metadata": {},
     "output_type": "execute_result"
    }
   ],
   "source": [
    "y"
   ]
  },
  {
   "cell_type": "markdown",
   "metadata": {},
   "source": [
    "`not`: Simply gives the opposite"
   ]
  },
  {
   "cell_type": "code",
   "execution_count": 123,
   "metadata": {},
   "outputs": [
    {
     "data": {
      "text/plain": [
       "False"
      ]
     },
     "execution_count": 123,
     "metadata": {},
     "output_type": "execute_result"
    }
   ],
   "source": [
    "#set a variable to not True\n",
    "z = not True\n",
    "z"
   ]
  },
  {
   "cell_type": "markdown",
   "metadata": {},
   "source": [
    "`and`: A and B only yields `True` if both A and B are true\n",
    "\n",
    "\n"
   ]
  },
  {
   "cell_type": "code",
   "execution_count": 124,
   "metadata": {},
   "outputs": [],
   "source": [
    "#set three boolean values\n",
    "sky_blue = True\n",
    "grass_green = True\n",
    "pigs_fly = False"
   ]
  },
  {
   "cell_type": "code",
   "execution_count": 125,
   "metadata": {},
   "outputs": [
    {
     "data": {
      "text/plain": [
       "True"
      ]
     },
     "execution_count": 125,
     "metadata": {},
     "output_type": "execute_result"
    }
   ],
   "source": [
    "#test the first two\n",
    "sky_blue and grass_green"
   ]
  },
  {
   "cell_type": "code",
   "execution_count": 126,
   "metadata": {},
   "outputs": [
    {
     "data": {
      "text/plain": [
       "False"
      ]
     },
     "execution_count": 126,
     "metadata": {},
     "output_type": "execute_result"
    }
   ],
   "source": [
    "#test the next two\n",
    "grass_green and pigs_fly"
   ]
  },
  {
   "cell_type": "code",
   "execution_count": 127,
   "metadata": {},
   "outputs": [
    {
     "data": {
      "text/plain": [
       "True"
      ]
     },
     "execution_count": 127,
     "metadata": {},
     "output_type": "execute_result"
    }
   ],
   "source": [
    "sky_blue or pigs_fly"
   ]
  },
  {
   "cell_type": "markdown",
   "metadata": {},
   "source": [
    "`or`: `A or B` only yields `False` if both A and B are false"
   ]
  },
  {
   "cell_type": "code",
   "execution_count": null,
   "metadata": {},
   "outputs": [],
   "source": [
    "#test two with or\n"
   ]
  },
  {
   "cell_type": "markdown",
   "metadata": {},
   "source": [
    "## Cool story, Boole\n",
    "So what? We rarely actually define variables to be `True` or `False`. More often, we get them from asking Python math problems."
   ]
  },
  {
   "cell_type": "code",
<<<<<<< HEAD
   "execution_count": 64,
=======
   "execution_count": 128,
>>>>>>> 1252bd8718dbd7124cbacf2be7221deb1cd52e61
   "metadata": {},
   "outputs": [
    {
     "data": {
      "text/plain": [
       "True"
      ]
     },
<<<<<<< HEAD
     "execution_count": 64,
=======
     "execution_count": 128,
>>>>>>> 1252bd8718dbd7124cbacf2be7221deb1cd52e61
     "metadata": {},
     "output_type": "execute_result"
    }
   ],
   "source": [
    "# Greater than\n",
    "5 > 3"
   ]
  },
  {
   "cell_type": "code",
<<<<<<< HEAD
   "execution_count": 65,
=======
   "execution_count": 129,
>>>>>>> 1252bd8718dbd7124cbacf2be7221deb1cd52e61
   "metadata": {},
   "outputs": [
    {
     "data": {
      "text/plain": [
       "False"
      ]
     },
<<<<<<< HEAD
     "execution_count": 65,
=======
     "execution_count": 129,
>>>>>>> 1252bd8718dbd7124cbacf2be7221deb1cd52e61
     "metadata": {},
     "output_type": "execute_result"
    }
   ],
   "source": [
    "# Less than\n",
    "5 < 3"
   ]
  },
  {
   "cell_type": "code",
<<<<<<< HEAD
   "execution_count": 66,
=======
   "execution_count": 130,
>>>>>>> 1252bd8718dbd7124cbacf2be7221deb1cd52e61
   "metadata": {},
   "outputs": [
    {
     "data": {
      "text/plain": [
       "True"
      ]
     },
<<<<<<< HEAD
     "execution_count": 66,
=======
     "execution_count": 130,
>>>>>>> 1252bd8718dbd7124cbacf2be7221deb1cd52e61
     "metadata": {},
     "output_type": "execute_result"
    }
   ],
   "source": [
    "# Greater than or equal to\n",
<<<<<<< HEAD
    "5>= 5"
=======
    "5 >= 5"
>>>>>>> 1252bd8718dbd7124cbacf2be7221deb1cd52e61
   ]
  },
  {
   "cell_type": "code",
<<<<<<< HEAD
   "execution_count": 67,
=======
   "execution_count": 131,
>>>>>>> 1252bd8718dbd7124cbacf2be7221deb1cd52e61
   "metadata": {},
   "outputs": [
    {
     "data": {
      "text/plain": [
       "False"
      ]
     },
<<<<<<< HEAD
     "execution_count": 67,
=======
     "execution_count": 131,
>>>>>>> 1252bd8718dbd7124cbacf2be7221deb1cd52e61
     "metadata": {},
     "output_type": "execute_result"
    }
   ],
   "source": [
    "# Break it into parts WITHIN parentheses\n",
    "(3 < 4) and (4 > 5)"
   ]
  },
  {
   "cell_type": "code",
<<<<<<< HEAD
   "execution_count": 68,
=======
   "execution_count": 132,
>>>>>>> 1252bd8718dbd7124cbacf2be7221deb1cd52e61
   "metadata": {},
   "outputs": [
    {
     "data": {
      "text/plain": [
       "True"
      ]
     },
<<<<<<< HEAD
     "execution_count": 68,
=======
     "execution_count": 132,
>>>>>>> 1252bd8718dbd7124cbacf2be7221deb1cd52e61
     "metadata": {},
     "output_type": "execute_result"
    }
   ],
   "source": [
    "# Not equal to\n",
    "3 != 4"
   ]
  },
  {
   "cell_type": "code",
<<<<<<< HEAD
   "execution_count": 69,
=======
   "execution_count": 133,
>>>>>>> 1252bd8718dbd7124cbacf2be7221deb1cd52e61
   "metadata": {},
   "outputs": [
    {
     "data": {
      "text/plain": [
       "True"
      ]
     },
<<<<<<< HEAD
     "execution_count": 69,
=======
     "execution_count": 133,
>>>>>>> 1252bd8718dbd7124cbacf2be7221deb1cd52e61
     "metadata": {},
     "output_type": "execute_result"
    }
   ],
   "source": [
    "# Equal to\n",
    "5 == 5"
   ]
  },
  {
   "cell_type": "markdown",
   "metadata": {},
   "source": [
    "Single equals sign is assignment NOT checking whether two values are the same. "
   ]
  },
  {
   "cell_type": "code",
   "execution_count": 134,
   "metadata": {},
   "outputs": [
    {
     "ename": "SyntaxError",
     "evalue": "cannot assign to literal (<ipython-input-134-fd606e25f666>, line 1)",
     "output_type": "error",
     "traceback": [
      "\u001b[0;36m  File \u001b[0;32m\"<ipython-input-134-fd606e25f666>\"\u001b[0;36m, line \u001b[0;32m1\u001b[0m\n\u001b[0;31m    5 = 5\u001b[0m\n\u001b[0m    ^\u001b[0m\n\u001b[0;31mSyntaxError\u001b[0m\u001b[0;31m:\u001b[0m cannot assign to literal\n"
     ]
    }
   ],
   "source": [
    "5 = 5"
   ]
  },
  {
   "cell_type": "markdown",
   "metadata": {},
   "source": [
    "Common error!"
   ]
  },
  {
   "cell_type": "markdown",
   "metadata": {},
   "source": [
    "## Summary\n",
    "\n",
    "We covered:\n",
    "\n",
    "- Basic Jupyter Notebook use\n",
    "- Basic math in Python\n",
    "- String manipulation in Python\n",
    "- Collection data types in Python\n",
    "- Booleans in Python"
   ]
  },
  {
   "cell_type": "markdown",
   "metadata": {},
   "source": [
    "## Check for Understanding\n",
    "\n",
    "- Make a list\n",
    "- Get the second to last item from the list\n",
    "- Make a dictionary\n",
    "- Get a value from the dictionary\n",
    "- Make a string variable\n",
    "- Reverse the string"
   ]
  }
 ],
 "metadata": {
  "anaconda-cloud": {},
  "kernelspec": {
   "display_name": "Python 3",
   "language": "python",
   "name": "python3"
  },
  "language_info": {
   "codemirror_mode": {
    "name": "ipython",
    "version": 3
   },
   "file_extension": ".py",
   "mimetype": "text/x-python",
   "name": "python",
   "nbconvert_exporter": "python",
   "pygments_lexer": "ipython3",
   "version": "3.7.6"
  }
 },
 "nbformat": 4,
 "nbformat_minor": 4
}
