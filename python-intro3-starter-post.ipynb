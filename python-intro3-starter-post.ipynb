{
 "cells": [
  {
   "cell_type": "markdown",
   "metadata": {},
   "source": [
    "# Python Intro 3: List comprehensions, classes, & more! \n",
    "\n",
    "_Authors: Steven Longstreet (DC), Jeff Hale (DC)\n",
    "\n",
    "---\n",
    "In this lesson you'll learn how to use the following Python language features:\n",
    "\n",
    "1. list comprehensions\n",
    "1. enumerate\n",
    "1. zip\n",
    "1. try-except blocks\n",
    "\n",
    "### Bonus more advanced features if you're working ahead:\n",
    "1. dictionary comprehensions\n",
    "1. classes, objects, attributes, & methods"
   ]
  },
  {
   "cell_type": "markdown",
   "metadata": {},
   "source": [
    "# List Comprehensions\n",
    "\n",
    "List comprehensions allow us to construct lists in a simplified method.\n",
    "\n",
    "As a starting point, let's look at building a list with a for loop"
   ]
  },
  {
   "cell_type": "code",
   "execution_count": 1,
   "metadata": {
    "ExecuteTime": {
     "end_time": "2020-01-13T04:31:01.380615Z",
     "start_time": "2020-01-13T04:31:01.371639Z"
    }
   },
   "outputs": [],
   "source": [
    "items = [1, 2, 3, 5, 7, 4]"
   ]
  },
  {
   "cell_type": "markdown",
   "metadata": {
    "ExecuteTime": {
     "end_time": "2020-01-13T04:31:01.380615Z",
     "start_time": "2020-01-13T04:31:01.371639Z"
    }
   },
   "source": [
    "I want to square the values so let's build the appropriate for loop. However, I know how 1 squares so we can leave that alone"
   ]
  },
  {
   "cell_type": "code",
   "execution_count": 2,
   "metadata": {
    "ExecuteTime": {
     "end_time": "2020-01-13T04:31:01.380615Z",
     "start_time": "2020-01-13T04:31:01.371639Z"
    }
   },
   "outputs": [
    {
     "data": {
      "text/plain": [
       "[1, 4, 9, 25, 49, 16]"
      ]
     },
     "execution_count": 2,
     "metadata": {},
     "output_type": "execute_result"
    }
   ],
   "source": [
    "#have to initialize an empty list first\n",
    "\n",
    "squared_for = []\n",
    "\n",
    "for item in items:\n",
    "    squared_for.append(item ** 2)\n",
    "\n",
    "squared_for"
   ]
  },
  {
   "cell_type": "code",
   "execution_count": null,
   "metadata": {
    "ExecuteTime": {
     "end_time": "2020-01-13T04:31:01.380615Z",
     "start_time": "2020-01-13T04:31:01.371639Z"
    }
   },
   "outputs": [],
   "source": [
    "#It's not that fun! Let's use list comprehension instead\n",
    "#saves memory, operates faster"
   ]
  },
  {
   "cell_type": "markdown",
   "metadata": {},
   "source": [
    "\n",
    "\n",
    "#### Lets look at the for loop\n",
    "\n",
    "> <span style=\"color:blue\">for (set of values to iterate):</span>\n",
    "\n",
    "> <span style=\"color:red\">....if (conditional filtering): </span>\n",
    "\n",
    "> <span style=\"color:black\">........output_expression()</span>\n",
    "\n",
    "\n",
    "We can do the same thing with a **list comprehension** in the following format\n",
    "\n",
    "> List comprehension = [<span style=\"color:black\">output_expression()</span> <span style=\"color:blue\">for (set of values to iterate):</span> <span style=\"color:red\">if (conditional filtering): </span>]\n",
    "\n",
    "#### Let's try rebuilding our for loop"
   ]
  },
  {
   "cell_type": "code",
   "execution_count": 6,
   "metadata": {
    "ExecuteTime": {
     "end_time": "2020-01-13T04:08:30.076071Z",
     "start_time": "2020-01-13T04:08:30.068094Z"
    }
   },
   "outputs": [
    {
     "data": {
      "text/plain": [
       "[1, 4, 9, 25, 49, 16]"
      ]
     },
     "execution_count": 6,
     "metadata": {},
     "output_type": "execute_result"
    }
   ],
   "source": [
    "#Works in a slightly different order than a for loop with a list\n",
    "#start with square brackets\n",
    "#put your iteration phrase at the end of the braces\n",
    "#START with what you want to do to each item in the list\n",
    "\n",
    "squared_lc = [item**2 for item in items]\n",
    "squared_lc"
   ]
  },
  {
   "cell_type": "markdown",
   "metadata": {
    "ExecuteTime": {
     "end_time": "2020-01-13T04:09:26.844101Z",
     "start_time": "2020-01-13T04:09:26.839118Z"
    }
   },
   "source": [
    "#### How do I know i made a list?"
   ]
  },
  {
   "cell_type": "code",
   "execution_count": 7,
   "metadata": {
    "ExecuteTime": {
     "end_time": "2020-01-13T04:09:26.844101Z",
     "start_time": "2020-01-13T04:09:26.839118Z"
    }
   },
   "outputs": [
    {
     "data": {
      "text/plain": [
       "list"
      ]
     },
     "execution_count": 7,
     "metadata": {},
     "output_type": "execute_result"
    }
   ],
   "source": [
    "type(squared_lc)"
   ]
  },
  {
   "cell_type": "markdown",
   "metadata": {},
   "source": [
    "#### Filtering with list comprehension"
   ]
  },
  {
   "cell_type": "code",
   "execution_count": 9,
   "metadata": {},
   "outputs": [
    {
     "data": {
      "text/plain": [
       "[125, 343]"
      ]
     },
     "execution_count": 9,
     "metadata": {},
     "output_type": "execute_result"
    }
   ],
   "source": [
    "#Can put filter at the end of the list comprehension\n",
    "\n",
    "big_only = [item**3 for item in items if item >= 5]\n",
    "big_only"
   ]
  },
  {
   "cell_type": "markdown",
   "metadata": {},
   "source": [
    "Anything you do in a list comprehension you can do in a for loop.\n",
    "\n",
    "Not necessarily true for the other way around\n",
    "\n",
    "You don't always want to do things in a list comprehension, because a list comprehension will only return a list. List comprehensions tend to be used for fairly simple for loops; for loops can get quite elaborate."
   ]
  },
  {
   "cell_type": "markdown",
   "metadata": {},
   "source": [
    "List comprehensions are less code, faster, and often clearer than an explicit _for_ loop when building a list.\n",
    "\n",
    "\n",
    "If you need to do a lot to create a list, that can be hard to follow in a list comprehensionjust use a normal loop."
   ]
  },
  {
   "cell_type": "markdown",
   "metadata": {},
   "source": [
    "## Exercises\n",
    "Use a list comprehension with `range` to make a list of the square roots for 1 to 10. "
   ]
  },
  {
   "cell_type": "code",
   "execution_count": 1,
   "metadata": {},
   "outputs": [
    {
     "data": {
      "text/plain": [
       "[1.0,\n",
       " 1.4142135623730951,\n",
       " 1.7320508075688772,\n",
       " 2.0,\n",
       " 2.23606797749979,\n",
       " 2.449489742783178,\n",
       " 2.6457513110645907,\n",
       " 2.8284271247461903,\n",
       " 3.0,\n",
       " 3.1622776601683795]"
      ]
     },
     "execution_count": 1,
     "metadata": {},
     "output_type": "execute_result"
    }
   ],
   "source": [
    "[number**0.5 for number in range(1,11)]"
   ]
  },
  {
   "cell_type": "markdown",
   "metadata": {},
   "source": [
    "Make a list of five classmates' names. Use a list comprehension to lowercase all the names."
   ]
  },
  {
   "cell_type": "code",
   "execution_count": 4,
   "metadata": {},
   "outputs": [
    {
     "data": {
      "text/plain": [
       "['john', 'cris', 'andrew', 'arthur', 'clare']"
      ]
     },
     "execution_count": 4,
     "metadata": {},
     "output_type": "execute_result"
    }
   ],
   "source": [
    "classmates = ['John', 'Cris', 'Andrew', 'Arthur', 'Clare']\n",
    "\n",
    "#SLACK: give me the code to do this with a list comprehension\n",
    "[cm.lower() for cm in classmates]"
   ]
  },
  {
   "cell_type": "markdown",
   "metadata": {},
   "source": [
    "Same as above but only include names that start with a _J_."
   ]
  },
  {
   "cell_type": "code",
   "execution_count": 5,
   "metadata": {},
   "outputs": [
    {
     "data": {
      "text/plain": [
       "['john']"
      ]
     },
     "execution_count": 5,
     "metadata": {},
     "output_type": "execute_result"
    }
   ],
   "source": [
    "[classmate.lower() for classmate in classmates if classmate[0] == \"J\"]"
   ]
  },
  {
   "cell_type": "code",
   "execution_count": 7,
   "metadata": {},
   "outputs": [
    {
     "data": {
      "text/plain": [
       "['john']"
      ]
     },
     "execution_count": 7,
     "metadata": {},
     "output_type": "execute_result"
    }
   ],
   "source": [
    "[classmate.lower() for classmate in classmates if \"J\" in classmate]"
   ]
  },
  {
   "cell_type": "code",
   "execution_count": 17,
   "metadata": {},
   "outputs": [
    {
     "data": {
      "text/plain": [
       "'John'"
      ]
     },
     "execution_count": 17,
     "metadata": {},
     "output_type": "execute_result"
    }
   ],
   "source": [
    "classmates[0]"
   ]
  },
  {
   "cell_type": "code",
   "execution_count": 20,
   "metadata": {},
   "outputs": [
    {
     "data": {
      "text/plain": [
       "'J'"
      ]
     },
     "execution_count": 20,
     "metadata": {},
     "output_type": "execute_result"
    }
   ],
   "source": [
    "classmates[0][0]"
   ]
  },
  {
   "cell_type": "markdown",
   "metadata": {},
   "source": [
    "# Bonus\n",
    "## More Advanced Python\n",
    " The following are more advanced Python features that are nice to know, but not essential. Try these out on your own time or if you're working ahead and have the basics above down.\n",
    "\n",
    "1. Dictionary comprehensions \n",
    "1. Enumerate\n",
    "1. Zip\n",
    "1. Iterables\n",
    "1. Try/Except Blocks"
   ]
  },
  {
   "cell_type": "markdown",
   "metadata": {
    "ExecuteTime": {
     "end_time": "2020-01-13T04:10:58.779806Z",
     "start_time": "2020-01-13T04:10:58.772824Z"
    }
   },
   "source": [
    "## Dictionary comprehensions\n",
    "\n",
    "Make a ditionary similar to how you made a list. Just use squiggly brackets and a colon between the new keys and new values."
   ]
  },
  {
   "cell_type": "code",
   "execution_count": 23,
   "metadata": {},
   "outputs": [
    {
     "data": {
      "text/plain": [
       "[1, 2, 3, 5, 7, 4]"
      ]
     },
     "execution_count": 23,
     "metadata": {},
     "output_type": "execute_result"
    }
   ],
   "source": [
    "items"
   ]
  },
  {
   "cell_type": "code",
   "execution_count": 18,
   "metadata": {
    "ExecuteTime": {
     "end_time": "2020-01-13T04:10:58.779806Z",
     "start_time": "2020-01-13T04:10:58.772824Z"
    }
   },
   "outputs": [],
   "source": [
    "#you're adding the key and value separated by a colon\n",
    "squared_dc={i:i**2 for i in items}"
   ]
  },
  {
   "cell_type": "code",
   "execution_count": 19,
   "metadata": {
    "ExecuteTime": {
     "end_time": "2020-01-13T04:10:58.779806Z",
     "start_time": "2020-01-13T04:10:58.772824Z"
    }
   },
   "outputs": [
    {
     "data": {
      "text/plain": [
       "{1: 1, 2: 4, 3: 9, 5: 25, 7: 49, 4: 16}"
      ]
     },
     "execution_count": 19,
     "metadata": {},
     "output_type": "execute_result"
    }
   ],
   "source": [
    "squared_dc"
   ]
  },
  {
   "cell_type": "code",
   "execution_count": 20,
   "metadata": {
    "ExecuteTime": {
     "end_time": "2020-01-13T04:10:58.779806Z",
     "start_time": "2020-01-13T04:10:58.772824Z"
    }
   },
   "outputs": [
    {
     "data": {
      "text/plain": [
       "dict"
      ]
     },
     "execution_count": 20,
     "metadata": {},
     "output_type": "execute_result"
    }
   ],
   "source": [
    "type(squared_dc)"
   ]
  },
  {
   "cell_type": "markdown",
   "metadata": {},
   "source": [
    "Filter so you only include items over 4. "
   ]
  },
  {
   "cell_type": "code",
   "execution_count": 21,
   "metadata": {},
   "outputs": [],
   "source": [
    "big_squared_dc={i:i**2 for i in items if i > 4}"
   ]
  },
  {
   "cell_type": "code",
   "execution_count": 22,
   "metadata": {},
   "outputs": [
    {
     "data": {
      "text/plain": [
       "{5: 25, 7: 49}"
      ]
     },
     "execution_count": 22,
     "metadata": {},
     "output_type": "execute_result"
    }
   ],
   "source": [
    "big_squared_dc"
   ]
  },
  {
   "cell_type": "markdown",
   "metadata": {},
   "source": [
    "## Enumerate\n",
    "\n",
    "Assigns an index to each item in iterable. Helps keeps track of things in an iterable. Let's you access the value and index at the same time."
   ]
  },
  {
   "cell_type": "code",
   "execution_count": 34,
   "metadata": {},
   "outputs": [
    {
     "data": {
      "text/plain": [
       "6"
      ]
     },
     "execution_count": 34,
     "metadata": {},
     "output_type": "execute_result"
    }
   ],
   "source": [
    "guest_list = [\"Fred\", \"Cho\", \"Brandi\", \"Yuna\", \"Nanda\", \"Denise\"]\n",
    "len(guest_list)"
   ]
  },
  {
   "cell_type": "code",
   "execution_count": 42,
   "metadata": {},
   "outputs": [
    {
     "data": {
      "text/plain": [
       "<enumerate at 0x13fa02e40>"
      ]
     },
     "execution_count": 42,
     "metadata": {},
     "output_type": "execute_result"
    }
   ],
   "source": [
    "enumerate(guest_list)"
   ]
  },
  {
   "cell_type": "markdown",
   "metadata": {},
   "source": [
    "We need to pass the enumerate object to something to that cand handle the index and value for each item, such as the dictionary contstructor."
   ]
  },
  {
   "cell_type": "code",
   "execution_count": 43,
   "metadata": {},
   "outputs": [
    {
     "data": {
      "text/plain": [
       "{0: 'Fred', 1: 'Cho', 2: 'Brandi', 3: 'Yuna', 4: 'Nanda', 5: 'Denise'}"
      ]
     },
     "execution_count": 43,
     "metadata": {},
     "output_type": "execute_result"
    }
   ],
   "source": [
    "dict(enumerate(guest_list))"
   ]
  },
  {
   "cell_type": "markdown",
   "metadata": {
    "ExecuteTime": {
     "end_time": "2020-01-13T03:27:49.113010Z",
     "start_time": "2020-01-13T03:27:49.107027Z"
    }
   },
   "source": [
    "#### Use a for loop with enumerate to modify the values of our list"
   ]
  },
  {
   "cell_type": "code",
   "execution_count": 44,
   "metadata": {
    "ExecuteTime": {
     "end_time": "2020-01-13T03:27:49.113010Z",
     "start_time": "2020-01-13T03:27:49.107027Z"
    }
   },
   "outputs": [
    {
     "data": {
      "text/plain": [
       "\"The guest_list is: ['FRED', 'CHO', 'BRANDI', 'YUNA', 'NANDA', 'DENISE']\""
      ]
     },
     "execution_count": 44,
     "metadata": {},
     "output_type": "execute_result"
    }
   ],
   "source": [
    "for indx, guest in enumerate(guest_list):\n",
    "    guest_list[indx] = guest_list[indx].upper()\n",
    "\n",
    "f\"The guest_list is: {guest_list}\""
   ]
  },
  {
   "cell_type": "code",
   "execution_count": 35,
   "metadata": {},
   "outputs": [],
   "source": [
    "#Another way of doing it\n",
    "guest_lst_new = []\n",
    "\n",
    "for i in guest_list:\n",
    "    guest_lst_new.append(i.upper())"
   ]
  },
  {
   "cell_type": "markdown",
   "metadata": {},
   "source": [
    "#### Iterate through a list while keeping track of the list items' indices"
   ]
  },
  {
   "cell_type": "code",
   "execution_count": null,
   "metadata": {},
   "outputs": [],
   "source": [
    "pets = ('Dogs', 'Cats', 'Turtles', 'Rabbits')\n",
    "\n",
    "for i, pet in enumerate(pets):\n",
    "    print (i, pet.lower())"
   ]
  },
  {
   "cell_type": "code",
   "execution_count": null,
   "metadata": {},
   "outputs": [],
   "source": [
    "# Create a dictionary index numbers for the keys \n",
    "menu = ['pizza', 'pasta', 'salad', 'nachos']\n",
    "dict(enumerate(menu))"
   ]
  },
  {
   "cell_type": "markdown",
   "metadata": {},
   "source": [
    "## Zip"
   ]
  },
  {
   "cell_type": "markdown",
   "metadata": {},
   "source": [
    "`zip` combines two iterables.\n",
    "\n",
    "You can combine two lists of equal length into a dictionary of key-value pairs with `zip`."
   ]
  },
  {
   "cell_type": "code",
   "execution_count": 45,
   "metadata": {},
   "outputs": [],
   "source": [
    "states = ['virginia', 'maryland', 'ohio']\n",
    "capitals = ['richmond', 'annapolis', 'columbus']"
   ]
  },
  {
   "cell_type": "code",
   "execution_count": 46,
   "metadata": {},
   "outputs": [
    {
     "data": {
      "text/plain": [
       "<zip at 0x13fa1b6c0>"
      ]
     },
     "execution_count": 46,
     "metadata": {},
     "output_type": "execute_result"
    }
   ],
   "source": [
    "zip(states, capitals)"
   ]
  },
  {
   "cell_type": "markdown",
   "metadata": {},
   "source": [
    "You've made a zip object. Now you need to pass it as an argument to the dictionary contstructor if you want to make a dictionary."
   ]
  },
  {
   "cell_type": "code",
   "execution_count": 47,
   "metadata": {},
   "outputs": [
    {
     "data": {
      "text/plain": [
       "{'virginia': 'richmond', 'maryland': 'annapolis', 'ohio': 'columbus'}"
      ]
     },
     "execution_count": 47,
     "metadata": {},
     "output_type": "execute_result"
    }
   ],
   "source": [
    "dict(zip(states, capitals))"
   ]
  },
  {
   "cell_type": "markdown",
   "metadata": {},
   "source": [
    "Make sure to save your new dictionary to a variable if you want to use it later! 😉"
   ]
  },
  {
   "cell_type": "markdown",
   "metadata": {},
   "source": [
    "\n",
    "\n",
    "---\n",
    "<a id='try'></a>\n",
    "## `try` / `except`\n",
    "---\n",
    "\n",
    "Sometimes, code throws a runtime error. For example, division by zero or using a keyword as a variable name."
   ]
  },
  {
   "cell_type": "code",
   "execution_count": null,
   "metadata": {},
   "outputs": [],
   "source": [
    "1 / 0"
   ]
  },
  {
   "cell_type": "code",
   "execution_count": null,
   "metadata": {},
   "outputs": [],
   "source": [
    "print('a' - 'b')"
   ]
  },
  {
   "cell_type": "markdown",
   "metadata": {},
   "source": [
    "These errors are called **exceptions**. Exceptions are errors that are **thrown** when the computer cannot continue because the expression cannot be evaluated properly. For example:\n",
    "\n",
    "+ Using the addition operator to add a string and a non-string.\n",
    "+ Using an undefined name.\n",
    "+ Opening a file that does not exist."
   ]
  },
  {
   "cell_type": "markdown",
   "metadata": {},
   "source": [
    "Luckily, our program does not have to be this fragile. By wrapping a code block with `try`, we can \"catch\" exceptions. If an exception occurs, instead of exiting, the computer immediately executes the matching `except` block and continues the program."
   ]
  },
  {
   "cell_type": "code",
   "execution_count": 48,
   "metadata": {},
   "outputs": [
    {
     "name": "stdout",
     "output_type": "stream",
     "text": [
      "Divide by zero!\n",
      "Program keeps executing!\n"
     ]
    }
   ],
   "source": [
    "try:\n",
    "    1 / 0\n",
    "    print('not executed due to the exception')\n",
    "except:\n",
    "    print('Divide by zero!')\n",
    "\n",
    "print('Program keeps executing!')"
   ]
  },
  {
   "cell_type": "markdown",
   "metadata": {},
   "source": [
    "Sometimes, you might want to do nothing in the event of an exception. However, an indented code block is still required! So, you can use the keyword `pass`."
   ]
  },
  {
   "cell_type": "code",
   "execution_count": null,
   "metadata": {
    "scrolled": true
   },
   "outputs": [],
   "source": [
    "try:\n",
    "    print('a' - 'b')\n",
    "except:\n",
    "    pass\n",
    "\n",
    "print('Program keeps executing!')"
   ]
  },
  {
   "cell_type": "markdown",
   "metadata": {},
   "source": [
    "We can also catch specific exceptions and use try/except in more ways, but we'll keep it brief for this introduction!"
   ]
  },
  {
   "cell_type": "markdown",
   "metadata": {},
   "source": [
    "# Classes & Methods\n",
    "\n",
    "There are a few concepts to understand with classes. First, a class is a particular kind of object meeting a preset determination of information.\n",
    "\n",
    "**Object:** \n",
    ">an instance of a class\n",
    "\n",
    "**Class:**\n",
    ">Defines the object. It's a means of bundling data and functionality together. \n",
    "\n",
    ">Creating a new class creates a new type of object, allowing new instances of that type to be made. \n",
    "\n",
    ">Each class instance can have attributes attached to it for maintaining its state. \n",
    "\n",
    ">Class instances can also have methods (defined by its class) for modifying its state.\n",
    "\n",
    "**Method**\n",
    ">A function that 'belongs to' an object. \n",
    "*Note:* Methods are not unique to classes in python as other object types can have methods as well such as lists, dictionaries etc."
   ]
  },
  {
   "cell_type": "markdown",
   "metadata": {},
   "source": [
    "#### Make a Pet class"
   ]
  },
  {
   "cell_type": "code",
   "execution_count": null,
   "metadata": {},
   "outputs": [],
   "source": [
    "# a class is like a mold or a stamp\n",
    "# going to stamp out objects with this class\n",
    "# initialized with a \"dunder init\" method \n",
    "#(dunder is short for double underscore)"
   ]
  },
  {
   "cell_type": "code",
   "execution_count": 25,
   "metadata": {},
   "outputs": [],
   "source": [
    "class Pet:\n",
    "    \n",
    "    def __init__(self, first_name, species):\n",
    "        #takes special keyword \"self\" as an argument\n",
    "        #init metho is what gets used right away \n",
    "        #to assign any attributes we want to create an instance of a class\n",
    "        #why do we assign self.first_name to the first thing\n",
    "        self.first_name = first_name\n",
    "        self.species = species\n",
    "        #without self.first_name we wouldn't have \n",
    "        #information for the state of the object"
   ]
  },
  {
   "cell_type": "markdown",
   "metadata": {},
   "source": [
    "Class Pet:\n",
    "> I'm telling Python I want to create a new class called \"Pet\"\n",
    "\n",
    "def __init__(self, name, species):\n",
    "        self.name = name\n",
    "        self.species = species\n",
    "        \n",
    "When a class is instantiated the __init__ serves as the constructor of the class to assign its initial values. \n",
    "\n",
    "*self* refers to that instance of the object allowing us to set values. We have to have *self* to allow objects to carry around the properties first_name and species with it. Here it adds the name and species when you instantiate an object of the Pet class.\n",
    "\n",
    "We then create a method named identify to return the name and species in a string"
   ]
  },
  {
   "cell_type": "markdown",
   "metadata": {},
   "source": [
    "#### Instantiate an object of the Pet class."
   ]
  },
  {
   "cell_type": "code",
   "execution_count": 10,
   "metadata": {},
   "outputs": [],
   "source": [
    "#the self portion of the init function gets passed over\n",
    "#instantiating the object\n",
    "lunchbox = Pet('Lunchbox', 'Cat')"
   ]
  },
  {
   "cell_type": "code",
   "execution_count": 11,
   "metadata": {},
   "outputs": [
    {
     "data": {
      "text/plain": [
       "<__main__.Pet at 0x1044152e0>"
      ]
     },
     "execution_count": 11,
     "metadata": {},
     "output_type": "execute_result"
    }
   ],
   "source": [
    "lunchbox"
   ]
  },
  {
   "cell_type": "code",
   "execution_count": 13,
   "metadata": {},
   "outputs": [
    {
     "data": {
      "text/plain": [
       "'Lunchbox'"
      ]
     },
     "execution_count": 13,
     "metadata": {},
     "output_type": "execute_result"
    }
   ],
   "source": [
    "#these are attributes/properties of pet\n",
    "lunchbox.first_name"
   ]
  },
  {
   "cell_type": "code",
   "execution_count": 14,
   "metadata": {},
   "outputs": [
    {
     "data": {
      "text/plain": [
       "'Cat'"
      ]
     },
     "execution_count": 14,
     "metadata": {},
     "output_type": "execute_result"
    }
   ],
   "source": [
    "lunchbox.species"
   ]
  },
  {
   "cell_type": "code",
   "execution_count": 29,
   "metadata": {},
   "outputs": [],
   "source": [
    "barbie = Pet('Barbie', 'Dog')"
   ]
  },
  {
   "cell_type": "code",
   "execution_count": 30,
   "metadata": {},
   "outputs": [
    {
     "data": {
      "text/plain": [
       "'Barbie'"
      ]
     },
     "execution_count": 30,
     "metadata": {},
     "output_type": "execute_result"
    }
   ],
   "source": [
    "barbie.first_name"
   ]
  },
  {
   "cell_type": "code",
   "execution_count": 31,
   "metadata": {},
   "outputs": [
    {
     "data": {
      "text/plain": [
       "'Dog'"
      ]
     },
     "execution_count": 31,
     "metadata": {},
     "output_type": "execute_result"
    }
   ],
   "source": [
    "barbie.species"
   ]
  },
  {
   "cell_type": "code",
   "execution_count": 27,
   "metadata": {},
   "outputs": [],
   "source": [
    "class Pet:\n",
    "    \n",
    "    def __init__(self, first_name, species):\n",
    "        #takes special keyword \"self\" as an argument\n",
    "        #init metho is what gets used right away \n",
    "        #to assign any attributes we want to create an instance of a class\n",
    "        #why do we assign self.first_name to the first thing\n",
    "        self.first_name = first_name\n",
    "        self.species = species\n",
    "        #without self.first_name we wouldn't have \n",
    "        #information for the state of the object\n",
    "\n",
    "#do this section AFTER demo-ing the below code\n",
    "    def identify(self):\n",
    "        #by passing self, it now has access to self.first_name\n",
    "        #and self.species\n",
    "        return f\"{self.first_name.title()} is a {self.species}\"\n",
    "    "
   ]
  },
  {
   "cell_type": "code",
   "execution_count": 32,
   "metadata": {},
   "outputs": [
    {
     "data": {
      "text/plain": [
       "'Barbie is a Dog'"
      ]
     },
     "execution_count": 32,
     "metadata": {},
     "output_type": "execute_result"
    }
   ],
   "source": [
    "barbie.identify()"
   ]
  },
  {
   "cell_type": "code",
   "execution_count": null,
   "metadata": {},
   "outputs": [],
   "source": [
    "#attributes = .identify, .species, etc.\n",
    "#objects = can be accessed with methods "
   ]
  },
  {
   "cell_type": "markdown",
   "metadata": {},
   "source": [
    "You might not make your own classes, but as we get in to pandas it's very handy to know the difference between methods and attributes and what is happening when you instantiate an object. 🚀"
   ]
  },
  {
   "cell_type": "markdown",
   "metadata": {},
   "source": [
    "**What's the difference between a function and a method?**\n",
    "> **Function**: a piece of code that is called by name. It can be passed data to operate on (i.e., the parameters) and can optionally return a value.\n",
    "\n",
    "> **Method**: a function that only objects of a class can use. Can return a value."
   ]
  },
  {
   "cell_type": "markdown",
   "metadata": {},
   "source": [
    "## Summary\n",
    "\n",
    "You've seen how to use:\n",
    "\n",
    "1. list comprehensions\n",
    "1. classes, objects, attributes, & methods\n",
    "\n",
    "Bonus:\n",
    "1. dict comprehensions\n",
    "1. enumerate\n",
    "1. zip\n",
    "1. try-except blocks"
   ]
  },
  {
   "cell_type": "markdown",
   "metadata": {},
   "source": [
    "\n",
    "## Check for understanding"
   ]
  },
  {
   "cell_type": "markdown",
   "metadata": {},
   "source": [
    "- How would you make a list comprehension to cube all the odd numbers in a list?\n",
    "- What's the difference between how you refer to an attribute and a method?\n",
    "- How do you make an object of a class?"
   ]
  }
 ],
 "metadata": {
  "kernelspec": {
   "display_name": "Python 3",
   "language": "python",
   "name": "python3"
  },
  "language_info": {
   "codemirror_mode": {
    "name": "ipython",
    "version": 3
   },
   "file_extension": ".py",
   "mimetype": "text/x-python",
   "name": "python",
   "nbconvert_exporter": "python",
   "pygments_lexer": "ipython3",
   "version": "3.8.5"
  }
 },
 "nbformat": 4,
 "nbformat_minor": 4
}
